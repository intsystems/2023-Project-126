{
  "cells": [
    {
      "cell_type": "markdown",
      "source": [
        "## Imports"
      ],
      "metadata": {
        "id": "9298TDi2gkYu"
      },
      "id": "9298TDi2gkYu"
    },
    {
      "cell_type": "code",
      "execution_count": 1,
      "metadata": {
        "colab": {
          "base_uri": "https://localhost:8080/"
        },
        "id": "3951f508",
        "outputId": "7f3b791f-22ed-4eed-d0ab-f8116f5906b1"
      },
      "outputs": [
        {
          "output_type": "stream",
          "name": "stderr",
          "text": [
            "[nltk_data] Downloading package punkt to /root/nltk_data...\n",
            "[nltk_data]   Unzipping tokenizers/punkt.zip.\n"
          ]
        },
        {
          "output_type": "execute_result",
          "data": {
            "text/plain": [
              "True"
            ]
          },
          "metadata": {},
          "execution_count": 1
        }
      ],
      "source": [
        "import pandas as pd\n",
        "import numpy as np\n",
        "import os\n",
        "import re\n",
        "import pickle\n",
        "import time\n",
        "import nltk\n",
        "import itertools\n",
        "import torch\n",
        "from sklearn.metrics import confusion_matrix, classification_report\n",
        "from torch.utils.data import TensorDataset, DataLoader, RandomSampler, SequentialSampler\n",
        "from sklearn.model_selection import train_test_split\n",
        "from transformers import XLMRobertaForSequenceClassification, AdamW, get_linear_schedule_with_warmup\n",
        "\n",
        "nltk.download('punkt')"
      ],
      "id": "3951f508"
    },
    {
      "cell_type": "code",
      "source": [
        "from google.colab import drive\n",
        "drive.mount('/content/drive')"
      ],
      "metadata": {
        "id": "wuJ5at2dkLfa"
      },
      "id": "wuJ5at2dkLfa",
      "execution_count": null,
      "outputs": []
    },
    {
      "cell_type": "code",
      "source": [
        "!pip install transformers"
      ],
      "metadata": {
        "id": "VlGJP78lkNDS"
      },
      "id": "VlGJP78lkNDS",
      "execution_count": null,
      "outputs": []
    },
    {
      "cell_type": "markdown",
      "source": [
        "## OLD VERSIOn"
      ],
      "metadata": {
        "id": "8oONk4zV7pRy"
      },
      "id": "8oONk4zV7pRy"
    },
    {
      "cell_type": "code",
      "execution_count": null,
      "metadata": {
        "id": "59f0136d"
      },
      "outputs": [],
      "source": [
        "original_articles = pd.read_csv('medium.csv')"
      ],
      "id": "59f0136d"
    },
    {
      "cell_type": "code",
      "execution_count": null,
      "metadata": {
        "id": "9a015996"
      },
      "outputs": [],
      "source": [
        "def preprocess(article):\n",
        "    # delete urls\n",
        "    url_pattern = re.compile(\n",
        "        r\"(https?:\\/\\/)(\\s)*(www\\.)?(\\s)*((\\w|\\s)+\\.)*([\\w\\-\\s]+\\/)*([\\w\\-]+)((\\?)?[\\w\\s]*=\\s*[\\w\\%&]*)*\")\n",
        "    article = re.sub(url_pattern, '', article)\n",
        "\n",
        "    # reorder paragraphs\n",
        "    paragraphs = article.split('\\n')\n",
        "    processed_paragraphs = []\n",
        "    temp_paragraph = \"\"\n",
        "    for number, paragraph in enumerate(paragraphs):\n",
        "        # remove heading\n",
        "        if number == 0:\n",
        "            if len(nltk.tokenize.sent_tokenize(paragraph)) == 1:\n",
        "                continue\n",
        "\n",
        "        if paragraph.lower().startswith('image source') \\\n",
        "                or paragraph.lower().startswith('source') \\\n",
        "                or paragraph.lower().startswith('photo by'):\n",
        "            continue\n",
        "        elif paragraph == '':\n",
        "            continue\n",
        "\n",
        "        if len(paragraph) < 55:  # probabliy it is a subheading\n",
        "            continue\n",
        "\n",
        "        if len(paragraph) < 450 and temp_paragraph == \"\":  # the paragraph is too small\n",
        "            temp_paragraph = paragraph\n",
        "        elif temp_paragraph != \"\":\n",
        "            temp_paragraph += paragraph\n",
        "            temp_paragraph += \" \"\n",
        "            if len(temp_paragraph) >= 500:\n",
        "                processed_paragraphs.append(temp_paragraph)\n",
        "                temp_paragraph = \"\"\n",
        "        else:\n",
        "            processed_paragraphs.append(paragraph)\n",
        "\n",
        "    return processed_paragraphs"
      ],
      "id": "9a015996"
    },
    {
      "cell_type": "code",
      "execution_count": null,
      "metadata": {
        "id": "e08b291e"
      },
      "outputs": [],
      "source": [
        "def merge_corresponding_authors(row):\n",
        "    number = row[1]\n",
        "    text = row[0]\n",
        "    true_paragraphs = preprocess(original_articles['0'][number])\n",
        "\n",
        "    artificial_paragraphs = text.split('\\n')\n",
        "\n",
        "    artificial_paragraphs_temp = []\n",
        "    for i in range(len(artificial_paragraphs)):\n",
        "        if len(artificial_paragraphs[i]) > 5:\n",
        "            artificial_paragraphs_temp.append(artificial_paragraphs[i])\n",
        "    artificial_paragraphs = artificial_paragraphs_temp\n",
        "\n",
        "    with open(f\"{path}/picks_{number}_1.txt\", \"r\") as picks_file:\n",
        "        picks = picks_file.read()\n",
        "        picks = [int(i) for i in picks.split(\" \")[:-1]]\n",
        "\n",
        "    # we put in this array first element of every pair of adjacent picks\n",
        "    if_there_adjacent_picks = []\n",
        "    for j in range(len(picks)):\n",
        "        if j < len(picks) - 1 and picks[j + 1] == picks[j] + 1:\n",
        "            if_there_adjacent_picks.append(picks[j])\n",
        "\n",
        "    human_paragraphs = []\n",
        "    for idx in range(len(true_paragraphs)):\n",
        "        if idx not in picks:\n",
        "            human_paragraphs.append(true_paragraphs[idx])\n",
        "\n",
        "    human_idx = 0\n",
        "    artifical = 0\n",
        "\n",
        "    authors_in_artificial = []\n",
        "    # 0 - human\n",
        "    # 1 - machine\n",
        "\n",
        "    punktuation = re.compile(r\"[’\\'\\\"“]\")\n",
        "    while artifical < len(artificial_paragraphs):\n",
        "        text1 = re.sub(punktuation, '', artificial_paragraphs[artifical].lower().strip())\n",
        "        if human_idx < len(human_paragraphs):\n",
        "            text2 = re.sub(punktuation, '', human_paragraphs[human_idx].lower().strip())\n",
        "        if human_idx < len(human_paragraphs) and text1[:10] == text2[:10]:\n",
        "            authors_in_artificial.append(0)\n",
        "            human_idx += 1\n",
        "        else:\n",
        "            authors_in_artificial.append(1)\n",
        "        artifical += 1\n",
        "\n",
        "    idx = 0\n",
        "    adjacent_idx = 0\n",
        "    llm_paragraphs = []\n",
        "    authors = []\n",
        "    if len(artificial_paragraphs) > len(true_paragraphs) and if_there_adjacent_picks == []:\n",
        "        while idx < len(artificial_paragraphs):\n",
        "            if authors_in_artificial[idx] == 0:\n",
        "                llm_paragraphs.append(artificial_paragraphs[idx])\n",
        "                authors.append(0)\n",
        "            else:\n",
        "                paragraph = artificial_paragraphs[idx]\n",
        "                while idx < len(artificial_paragraphs) - 1 and authors_in_artificial[idx + 1] == 1:\n",
        "                    idx += 1\n",
        "                    paragraph += artificial_paragraphs[idx]\n",
        "                llm_paragraphs.append(paragraph)\n",
        "                authors.append(1)\n",
        "            idx += 1\n",
        "    elif len(artificial_paragraphs) == len(true_paragraphs):\n",
        "        llm_paragraphs = artificial_paragraphs\n",
        "        authors = authors_in_artificial\n",
        "    elif len(artificial_paragraphs) > len(true_paragraphs) and if_there_adjacent_picks != []:\n",
        "        while idx < len(artificial_paragraphs):\n",
        "            if authors_in_artificial[idx] == 0:\n",
        "                llm_paragraphs.append(artificial_paragraphs[idx])\n",
        "                authors.append(0)\n",
        "            else:\n",
        "                if idx == if_there_adjacent_picks[adjacent_idx]:\n",
        "                    paragraph = artificial_paragraphs[idx]\n",
        "                    llm_paragraphs.append(paragraph)\n",
        "                    authors.append(1)\n",
        "                    idx += 1\n",
        "                    paragraph = artificial_paragraphs[idx]\n",
        "                    while idx < len(artificial_paragraphs) - 1 and authors_in_artificial[idx + 1] == 1:\n",
        "                        idx += 1\n",
        "                        paragraph += artificial_paragraphs[idx]\n",
        "                    llm_paragraphs.append(paragraph)\n",
        "                    authors.append(1)\n",
        "            idx += 1\n",
        "    return llm_paragraphs, authors\n"
      ],
      "id": "e08b291e"
    },
    {
      "cell_type": "code",
      "execution_count": null,
      "metadata": {
        "id": "13e46123"
      },
      "outputs": [],
      "source": [
        "corpus = []\n",
        "path = \"./homevozniukgenerated_documents\"\n",
        "for file in os.listdir(path):\n",
        "    filename = os.fsdecode(file)\n",
        "    if filename.startswith(\"output\"):\n",
        "        number = int(filename.split(\"_\", maxsplit=1)[1].split(\"_\")[0])\n",
        "        if number > 1000:\n",
        "            continue\n",
        "        with open(f\"{path}/{filename}\", 'r') as read_file:\n",
        "            paragraphs = read_file.readlines()\n",
        "        text = \"\".join(paragraphs)\n",
        "        corpus.append({\"text\": text, \"number\": number})"
      ],
      "id": "13e46123"
    },
    {
      "cell_type": "code",
      "execution_count": null,
      "metadata": {
        "id": "63b46b0d"
      },
      "outputs": [],
      "source": [
        "df = pd.DataFrame(data=corpus, columns=['text', 'number'])"
      ],
      "id": "63b46b0d"
    },
    {
      "cell_type": "code",
      "execution_count": null,
      "metadata": {
        "id": "8bebb1a8",
        "outputId": "b33a1288-558d-409e-f5c9-82a2b70e3dd5"
      },
      "outputs": [
        {
          "name": "stdout",
          "output_type": "stream",
          "text": [
            "There are 4 GPU(s) available.\n",
            "GPU is: NVIDIA A100-SXM4-40GB\n"
          ]
        }
      ],
      "source": [
        "import torch\n",
        "# check if we have cuda installed\n",
        "if torch.cuda.is_available():\n",
        "    # to use GPU\n",
        "    device = torch.device(\"cuda\")\n",
        "    print('There are %d GPU(s) available.' % torch.cuda.device_count())\n",
        "    print('GPU is:', torch.cuda.get_device_name(0))\n",
        "else:\n",
        "    print('No GPU available, using the CPU instead.')\n",
        "    device = torch.device(\"cpu\")"
      ],
      "id": "8bebb1a8"
    },
    {
      "cell_type": "code",
      "execution_count": null,
      "metadata": {
        "id": "51f7b238"
      },
      "outputs": [],
      "source": [],
      "id": "51f7b238"
    },
    {
      "cell_type": "code",
      "execution_count": null,
      "metadata": {
        "id": "43123a68"
      },
      "outputs": [],
      "source": [
        "df['paragraphs'] = df.apply(merge_corresponding_authors, axis=1)"
      ],
      "id": "43123a68"
    },
    {
      "cell_type": "code",
      "execution_count": null,
      "metadata": {
        "id": "850065d9"
      },
      "outputs": [],
      "source": [
        "df['authors'] = df.apply(lambda x: x['paragraphs'][1], axis=1)"
      ],
      "id": "850065d9"
    },
    {
      "cell_type": "code",
      "execution_count": null,
      "metadata": {
        "id": "6a9c7420"
      },
      "outputs": [],
      "source": [
        "df['paragraphs'] = df.apply(lambda x: x['paragraphs'][0], axis=1)"
      ],
      "id": "6a9c7420"
    },
    {
      "cell_type": "code",
      "execution_count": null,
      "metadata": {
        "id": "e880cd9b",
        "outputId": "f675590a-44b6-4045-8f9d-71bb8c2d035b"
      },
      "outputs": [
        {
          "data": {
            "text/html": [
              "<div>\n",
              "<style scoped>\n",
              "    .dataframe tbody tr th:only-of-type {\n",
              "        vertical-align: middle;\n",
              "    }\n",
              "\n",
              "    .dataframe tbody tr th {\n",
              "        vertical-align: top;\n",
              "    }\n",
              "\n",
              "    .dataframe thead th {\n",
              "        text-align: right;\n",
              "    }\n",
              "</style>\n",
              "<table border=\"1\" class=\"dataframe\">\n",
              "  <thead>\n",
              "    <tr style=\"text-align: right;\">\n",
              "      <th></th>\n",
              "      <th>text</th>\n",
              "      <th>number</th>\n",
              "      <th>paragraphs</th>\n",
              "      <th>authors</th>\n",
              "    </tr>\n",
              "  </thead>\n",
              "  <tbody>\n",
              "    <tr>\n",
              "      <th>25</th>\n",
              "      <td>Data visualizations are key players in data sc...</td>\n",
              "      <td>1</td>\n",
              "      <td>[Data visualizations are key players in data s...</td>\n",
              "      <td>[0, 1, 0, 0, 1, 0]</td>\n",
              "    </tr>\n",
              "    <tr>\n",
              "      <th>9</th>\n",
              "      <td>Microsoft recently released a New Dialogue Ran...</td>\n",
              "      <td>2</td>\n",
              "      <td>[Microsoft recently released a New Dialogue Ra...</td>\n",
              "      <td>[0, 0, 1, 1, 0, 0]</td>\n",
              "    </tr>\n",
              "    <tr>\n",
              "      <th>178</th>\n",
              "      <td>I remember a time in my childhood, I was about...</td>\n",
              "      <td>3</td>\n",
              "      <td>[I remember a time in my childhood, I was abou...</td>\n",
              "      <td>[0, 1, 0, 0, 1, 0]</td>\n",
              "    </tr>\n",
              "    <tr>\n",
              "      <th>10</th>\n",
              "      <td>Winter is coming and theres a good chance you ...</td>\n",
              "      <td>4</td>\n",
              "      <td>[Winter is coming and theres a good chance you...</td>\n",
              "      <td>[0, 0, 1, 0, 1, 0]</td>\n",
              "    </tr>\n",
              "    <tr>\n",
              "      <th>202</th>\n",
              "      <td>How Ernesto Miranda’s case came before the Sup...</td>\n",
              "      <td>5</td>\n",
              "      <td>[How Ernesto Miranda’s case came before the Su...</td>\n",
              "      <td>[0, 1, 0, 0, 0, 1]</td>\n",
              "    </tr>\n",
              "    <tr>\n",
              "      <th>...</th>\n",
              "      <td>...</td>\n",
              "      <td>...</td>\n",
              "      <td>...</td>\n",
              "      <td>...</td>\n",
              "    </tr>\n",
              "    <tr>\n",
              "      <th>130</th>\n",
              "      <td>Ive wanted to be a published author for as lon...</td>\n",
              "      <td>248</td>\n",
              "      <td>[Ive wanted to be a published author for as lo...</td>\n",
              "      <td>[0, 1, 0, 1, 0, 1]</td>\n",
              "    </tr>\n",
              "    <tr>\n",
              "      <th>239</th>\n",
              "      <td>Creativity and joy make part of my life. I lov...</td>\n",
              "      <td>250</td>\n",
              "      <td>[Creativity and joy make part of my life. I lo...</td>\n",
              "      <td>[0, 1, 0, 1, 1]</td>\n",
              "    </tr>\n",
              "    <tr>\n",
              "      <th>66</th>\n",
              "      <td>Recently I did something I shouldnt have had t...</td>\n",
              "      <td>251</td>\n",
              "      <td>[Recently I did something I shouldnt have had ...</td>\n",
              "      <td>[0, 1, 0, 1, 1, 0]</td>\n",
              "    </tr>\n",
              "    <tr>\n",
              "      <th>90</th>\n",
              "      <td>Im never going to be that kind of writer, I ex...</td>\n",
              "      <td>252</td>\n",
              "      <td>[Im never going to be that kind of writer, I e...</td>\n",
              "      <td>[0, 0, 1, 1]</td>\n",
              "    </tr>\n",
              "    <tr>\n",
              "      <th>13</th>\n",
              "      <td>With the right attitude, passion and heart any...</td>\n",
              "      <td>253</td>\n",
              "      <td>[With the right attitude, passion and heart an...</td>\n",
              "      <td>[0, 0, 1, 1]</td>\n",
              "    </tr>\n",
              "  </tbody>\n",
              "</table>\n",
              "<p>240 rows × 4 columns</p>\n",
              "</div>"
            ],
            "text/plain": [
              "                                                  text  number  \\\n",
              "25   Data visualizations are key players in data sc...       1   \n",
              "9    Microsoft recently released a New Dialogue Ran...       2   \n",
              "178  I remember a time in my childhood, I was about...       3   \n",
              "10   Winter is coming and theres a good chance you ...       4   \n",
              "202  How Ernesto Miranda’s case came before the Sup...       5   \n",
              "..                                                 ...     ...   \n",
              "130  Ive wanted to be a published author for as lon...     248   \n",
              "239  Creativity and joy make part of my life. I lov...     250   \n",
              "66   Recently I did something I shouldnt have had t...     251   \n",
              "90   Im never going to be that kind of writer, I ex...     252   \n",
              "13   With the right attitude, passion and heart any...     253   \n",
              "\n",
              "                                            paragraphs             authors  \n",
              "25   [Data visualizations are key players in data s...  [0, 1, 0, 0, 1, 0]  \n",
              "9    [Microsoft recently released a New Dialogue Ra...  [0, 0, 1, 1, 0, 0]  \n",
              "178  [I remember a time in my childhood, I was abou...  [0, 1, 0, 0, 1, 0]  \n",
              "10   [Winter is coming and theres a good chance you...  [0, 0, 1, 0, 1, 0]  \n",
              "202  [How Ernesto Miranda’s case came before the Su...  [0, 1, 0, 0, 0, 1]  \n",
              "..                                                 ...                 ...  \n",
              "130  [Ive wanted to be a published author for as lo...  [0, 1, 0, 1, 0, 1]  \n",
              "239  [Creativity and joy make part of my life. I lo...     [0, 1, 0, 1, 1]  \n",
              "66   [Recently I did something I shouldnt have had ...  [0, 1, 0, 1, 1, 0]  \n",
              "90   [Im never going to be that kind of writer, I e...        [0, 0, 1, 1]  \n",
              "13   [With the right attitude, passion and heart an...        [0, 0, 1, 1]  \n",
              "\n",
              "[240 rows x 4 columns]"
            ]
          },
          "execution_count": 10,
          "metadata": {},
          "output_type": "execute_result"
        }
      ],
      "source": [
        "df.sort_values('number')"
      ],
      "id": "e880cd9b"
    },
    {
      "cell_type": "code",
      "execution_count": null,
      "metadata": {
        "id": "f8ef9fb7"
      },
      "outputs": [],
      "source": [
        "failed = [17,\n",
        "18,\n",
        "61,\n",
        "117,\n",
        "126,\n",
        "130,\n",
        "139,\n",
        "126,\n",
        "136,\n",
        "156,\n",
        "171,\n",
        "208,\n",
        "213,\n",
        "214,\n",
        "220,\n",
        "228,\n",
        "232,\n",
        "239,\n",
        "241,\n",
        "249,]"
      ],
      "id": "f8ef9fb7"
    },
    {
      "cell_type": "code",
      "execution_count": null,
      "metadata": {
        "id": "86f53a6a"
      },
      "outputs": [],
      "source": [
        "for i in failed:\n",
        "    df = df[df.number != i]"
      ],
      "id": "86f53a6a"
    },
    {
      "cell_type": "code",
      "execution_count": null,
      "metadata": {
        "id": "c21dca2e"
      },
      "outputs": [],
      "source": [],
      "id": "c21dca2e"
    },
    {
      "cell_type": "code",
      "execution_count": null,
      "metadata": {
        "id": "c5662b8b"
      },
      "outputs": [],
      "source": [
        "splitted_df = df.explode(['paragraphs', 'authors'])"
      ],
      "id": "c5662b8b"
    },
    {
      "cell_type": "code",
      "execution_count": null,
      "metadata": {
        "id": "db79cbb3",
        "outputId": "f0c3df95-47e8-40af-c7c0-3762814c8688"
      },
      "outputs": [
        {
          "data": {
            "text/plain": [
              "0      587\n",
              "0      633\n",
              "0      553\n",
              "0      499\n",
              "0      694\n",
              "      ... \n",
              "239    546\n",
              "239    531\n",
              "239    690\n",
              "239    686\n",
              "239    541\n",
              "Name: paragraphs, Length: 1211, dtype: int64"
            ]
          },
          "execution_count": 14,
          "metadata": {},
          "output_type": "execute_result"
        }
      ],
      "source": [
        "splitted_df['paragraphs'].apply(len)"
      ],
      "id": "db79cbb3"
    },
    {
      "cell_type": "markdown",
      "source": [
        "## FINETUNING FOR PARAGRAPHS"
      ],
      "metadata": {
        "id": "m5uvjoIT7tGl"
      },
      "id": "m5uvjoIT7tGl"
    },
    {
      "cell_type": "code",
      "execution_count": 3,
      "metadata": {
        "id": "VXuY1sPt5Uov"
      },
      "outputs": [],
      "source": [
        "splitted_df = pd.read_csv('df_for_finetuning_large.csv')"
      ],
      "id": "VXuY1sPt5Uov"
    },
    {
      "cell_type": "code",
      "source": [
        "numbers = splitted_df.number.values.tolist()[:10000]"
      ],
      "metadata": {
        "id": "5fYfxYo2Noo6"
      },
      "id": "5fYfxYo2Noo6",
      "execution_count": 43,
      "outputs": []
    },
    {
      "cell_type": "code",
      "execution_count": 4,
      "metadata": {
        "id": "dccfea87"
      },
      "outputs": [],
      "source": [
        "features = splitted_df.paragraphs.values.tolist()[:10000]\n",
        "targets = splitted_df.authors.values.tolist()[:10000]"
      ],
      "id": "dccfea87"
    },
    {
      "cell_type": "code",
      "execution_count": 5,
      "metadata": {
        "id": "636f163a"
      },
      "outputs": [],
      "source": [
        "updated_features = [\"[CLS] \" + str(text) for text in features]"
      ],
      "id": "636f163a"
    },
    {
      "cell_type": "code",
      "execution_count": 6,
      "metadata": {
        "colab": {
          "base_uri": "https://localhost:8080/",
          "height": 113,
          "referenced_widgets": [
            "e9981a5bc5574a6f9dc0f463690abdd6",
            "c9294ca2eba14a89bcee0bda84de24da",
            "b77cce32b5384f8c86e501fed7fd7b91",
            "8cc5879f55c44235b2ebca5725514c02",
            "9e546ad3bc304af08c79f5e2098895ea",
            "92e3219a16234e2180bc7279a2177f6d",
            "cd619bd054b6470f931a66575949b9d1",
            "0d51e499857942b4919b6cebc879c49a",
            "571f28d692134432ad5799f200821056",
            "f4b1bdf5f9ec46ef935a5cd94d8486f3",
            "2c8e955f9fef46eea247685e9ec8b9d4",
            "d34580ef6fcf4bf0a6c0c0a8cb320920",
            "273d9efae9474b35b336522166bbf798",
            "469302e99408460fb64e2f8efc1b8bec",
            "73d4759287274373b0bf6cdd94816340",
            "e69ccc989fbc4df59ae1126a2fb860ec",
            "a95b2c3af4944f6da3d0adeeb36b19e9",
            "22ef9814b27242b389379b8fa7f552b3",
            "0d45d0e2c599493db8956a0eb2bb2752",
            "ac29ea13a1e84316b424bb62bb2ca734",
            "97e985a4e41041689fa4f47e31670ab6",
            "3146ff97c3c94690818fb81f9d835bb5",
            "d4d9cafa87dc419b80a2f72fa4d4ba57",
            "78f6a71582ea4a7e8c07b94cc9b426cf",
            "86b949f54cc94e668b9c1429ef47e437",
            "67a3c4385e56448b89c02ba6e3901a73",
            "efff6f1e2a9c44138c877d1e5dc21e04",
            "1d550ac43a70441db2b8ff343ea29ea2",
            "092794b9859448c9a1be6180a86cf76d",
            "0d82b90d62d54dd581f86ffa56fd92f5",
            "2e7b97b27f5f4946b51d3ec019eddf20",
            "c1b87838782d4d27b9de5a8e8b06427e",
            "e38d3e5fa3d84c31a09d0ee63a0c1dc0"
          ]
        },
        "id": "71e50ba2",
        "outputId": "2de022be-8e2c-44eb-c9a8-3777503f743a"
      },
      "outputs": [
        {
          "output_type": "display_data",
          "data": {
            "text/plain": [
              "Downloading (…)lve/main/config.json:   0%|          | 0.00/615 [00:00<?, ?B/s]"
            ],
            "application/vnd.jupyter.widget-view+json": {
              "version_major": 2,
              "version_minor": 0,
              "model_id": "e9981a5bc5574a6f9dc0f463690abdd6"
            }
          },
          "metadata": {}
        },
        {
          "output_type": "display_data",
          "data": {
            "text/plain": [
              "Downloading (…)tencepiece.bpe.model:   0%|          | 0.00/5.07M [00:00<?, ?B/s]"
            ],
            "application/vnd.jupyter.widget-view+json": {
              "version_major": 2,
              "version_minor": 0,
              "model_id": "d34580ef6fcf4bf0a6c0c0a8cb320920"
            }
          },
          "metadata": {}
        },
        {
          "output_type": "display_data",
          "data": {
            "text/plain": [
              "Downloading (…)/main/tokenizer.json:   0%|          | 0.00/9.10M [00:00<?, ?B/s]"
            ],
            "application/vnd.jupyter.widget-view+json": {
              "version_major": 2,
              "version_minor": 0,
              "model_id": "d4d9cafa87dc419b80a2f72fa4d4ba57"
            }
          },
          "metadata": {}
        }
      ],
      "source": [
        "from transformers import AutoTokenizer\n",
        "tokenizer = AutoTokenizer.from_pretrained('xlm-roberta-base')"
      ],
      "id": "71e50ba2"
    },
    {
      "cell_type": "code",
      "execution_count": 7,
      "metadata": {
        "id": "7b9f0baa"
      },
      "outputs": [],
      "source": [
        "MAX_LEN = 511\n",
        "tokenized_feature = tokenizer.batch_encode_plus(\n",
        "                            # Sentences to encode\n",
        "                            updated_features,\n",
        "                            # Add empty tokens if len(text)<MAX_LEN\n",
        "                            padding = 'max_length',\n",
        "                            # Truncate all sentences to max length\n",
        "                            truncation=True,\n",
        "                            # Set the maximum length\n",
        "                            max_length = MAX_LEN,\n",
        "                            # Return attention mask\n",
        "                            return_attention_mask = True,\n",
        "                            # Return pytorch tensors\n",
        "                            return_tensors = 'pt'\n",
        "                   )"
      ],
      "id": "7b9f0baa"
    },
    {
      "cell_type": "code",
      "source": [
        "# Use 80% for training and 20% for validation\n",
        "train_inputs, validation_inputs, train_labels, validation_labels, train_masks, validation_masks = train_test_split(tokenized_feature['input_ids'],\n",
        "                                                                                                      targets, tokenized_feature['attention_mask'],\n",
        "                                                                                                      random_state=2018, test_size=0.3)"
      ],
      "metadata": {
        "id": "ZAfJ8wuvkZ-Z"
      },
      "id": "ZAfJ8wuvkZ-Z",
      "execution_count": null,
      "outputs": []
    },
    {
      "cell_type": "code",
      "source": [
        "# define batch_size\n",
        "batch_size = 8"
      ],
      "metadata": {
        "id": "lOfaFVlxkYgM"
      },
      "id": "lOfaFVlxkYgM",
      "execution_count": null,
      "outputs": []
    },
    {
      "cell_type": "code",
      "source": [
        "# Create the DataLoader for our training set\n",
        "train_data = TensorDataset(train_inputs, train_masks, torch.tensor(train_labels))\n",
        "train_sampler = RandomSampler(train_data)\n",
        "train_dataloader = DataLoader(train_data, sampler=train_sampler, batch_size=batch_size)\n",
        "# Create the DataLoader for our test set\n",
        "validation_data = TensorDataset(validation_inputs, validation_masks, torch.tensor(validation_labels))\n",
        "validation_sampler = SequentialSampler(validation_data)\n",
        "validation_dataloader = DataLoader(validation_data, sampler=validation_sampler, batch_size=batch_size)"
      ],
      "metadata": {
        "id": "RBm5l9aikhBN"
      },
      "id": "RBm5l9aikhBN",
      "execution_count": null,
      "outputs": []
    },
    {
      "cell_type": "code",
      "source": [
        "# let's get the same splitting but for documents number\n",
        "numbers = splitted_df.number.values.tolist()[:10000]\n",
        "train_df, test_df = train_test_split(splitted_df[:10000],random_state=2018, test_size=0.3)\n",
        "\n",
        "numbers_sampler = SequentialSampler(test_df.number.to_numpy())\n",
        "numbers_dataloader = DataLoader(test_df.number.to_numpy(), sampler=numbers_sampler, batch_size=batch_size)"
      ],
      "metadata": {
        "id": "A7Xgi9OqPj0X"
      },
      "id": "A7Xgi9OqPj0X",
      "execution_count": 51,
      "outputs": []
    },
    {
      "cell_type": "markdown",
      "source": [
        "defining XLMRoberta"
      ],
      "metadata": {
        "id": "v5igw8PDkiUF"
      },
      "id": "v5igw8PDkiUF"
    },
    {
      "cell_type": "code",
      "execution_count": 25,
      "metadata": {
        "colab": {
          "base_uri": "https://localhost:8080/",
          "height": 104,
          "referenced_widgets": [
            "c03bd502afc144baadc811b6a4bd7f2c",
            "417799e5d69d41e2a818a79b115c0ee2",
            "24bfd912c6fc418195c14a35257b3503",
            "e11b77995d684db9b2f4fb20ed6c4db9",
            "a0ff75f347cd41c4aae70603981bc0d0",
            "1eaeb7169caf4f778d4acd3754c66429",
            "ba7de3f8fbd2403288ec7ea530053b28",
            "245c36e41f244c689ca90a7a8d427b6e",
            "358d89de1a9b4c4baae5241ca2f60437",
            "4d4b4d0e461e47529e7932b90f1652e2",
            "63edfd8161234158b0856c144eb4f313"
          ]
        },
        "id": "37c704c8",
        "outputId": "aeaee303-ee03-4972-b097-8afc05036919"
      },
      "outputs": [
        {
          "output_type": "display_data",
          "data": {
            "text/plain": [
              "Downloading model.safetensors:   0%|          | 0.00/1.12G [00:00<?, ?B/s]"
            ],
            "application/vnd.jupyter.widget-view+json": {
              "version_major": 2,
              "version_minor": 0,
              "model_id": "c03bd502afc144baadc811b6a4bd7f2c"
            }
          },
          "metadata": {}
        },
        {
          "output_type": "stream",
          "name": "stderr",
          "text": [
            "Some weights of XLMRobertaForSequenceClassification were not initialized from the model checkpoint at xlm-roberta-base and are newly initialized: ['classifier.out_proj.weight', 'classifier.dense.weight', 'classifier.out_proj.bias', 'classifier.dense.bias']\n",
            "You should probably TRAIN this model on a down-stream task to be able to use it for predictions and inference.\n"
          ]
        }
      ],
      "source": [
        "model = XLMRobertaForSequenceClassification.from_pretrained(\n",
        "    \"xlm-roberta-base\",\n",
        "    # Specify number of classes\n",
        "    num_labels = 2,\n",
        "    # Whether the model returns attentions weights\n",
        "    output_attentions = False,\n",
        "    # Whether the model returns all hidden-states\n",
        "    output_hidden_states = True\n",
        ")"
      ],
      "id": "37c704c8"
    },
    {
      "cell_type": "code",
      "execution_count": 26,
      "metadata": {
        "colab": {
          "base_uri": "https://localhost:8080/"
        },
        "id": "f713dbb3",
        "outputId": "6d4d18e4-ab5d-42c3-cb50-21e81a616f5a"
      },
      "outputs": [
        {
          "output_type": "stream",
          "name": "stdout",
          "text": [
            "Using device: cuda\n",
            "\n"
          ]
        }
      ],
      "source": [
        "device = torch.device('cuda' if torch.cuda.is_available() else 'cpu')\n",
        "print('Using device:', device)\n",
        "print()"
      ],
      "id": "f713dbb3"
    },
    {
      "cell_type": "code",
      "execution_count": 27,
      "metadata": {
        "id": "-pkiGEPOhevi"
      },
      "outputs": [],
      "source": [
        "model = model.cuda()"
      ],
      "id": "-pkiGEPOhevi"
    },
    {
      "cell_type": "code",
      "execution_count": 28,
      "metadata": {
        "id": "02d21c74"
      },
      "outputs": [],
      "source": [
        "optimizer = torch.optim.AdamW(model.parameters(),\n",
        "                  lr = 1e-5,\n",
        "                  eps = 1e-8\n",
        "                )\n",
        "# Number of training epochs\n",
        "epochs = 4\n",
        "# Total number of training steps is number of batches * number of epochs.\n",
        "total_steps = len(train_dataloader) * epochs\n",
        "# Create the learning rate scheduler\n",
        "scheduler = get_linear_schedule_with_warmup(optimizer,\n",
        "                                            num_warmup_steps = 3,\n",
        "                                            num_training_steps = total_steps)\n",
        "\n",
        "loss_fn = torch.nn.CrossEntropyLoss()"
      ],
      "id": "02d21c74"
    },
    {
      "cell_type": "code",
      "execution_count": 29,
      "metadata": {
        "colab": {
          "base_uri": "https://localhost:8080/"
        },
        "id": "23343c75",
        "outputId": "8c5aa632-f31e-459f-9f59-d08287d809e1"
      },
      "outputs": [
        {
          "output_type": "stream",
          "name": "stdout",
          "text": [
            "total steps per epoch:  109.375\n",
            "training on epoch:  0\n",
            "training on step:  50\n",
            "total time used is: 40.11 s\n",
            "training on step:  100\n",
            "total time used is: 78.86 s\n",
            "training on step:  150\n",
            "total time used is: 118.72 s\n",
            "training on step:  200\n",
            "total time used is: 159.64 s\n",
            "training on step:  250\n",
            "total time used is: 200.26 s\n",
            "training on step:  300\n",
            "total time used is: 241.02 s\n",
            "training on step:  350\n",
            "total time used is: 281.75 s\n",
            "training on step:  400\n",
            "total time used is: 322.44 s\n",
            "training on step:  450\n",
            "total time used is: 363.08 s\n",
            "training on step:  500\n",
            "total time used is: 403.75 s\n",
            "training on step:  550\n",
            "total time used is: 444.40 s\n",
            "training on step:  600\n",
            "total time used is: 485.03 s\n",
            "training on step:  650\n",
            "total time used is: 525.59 s\n",
            "training on step:  700\n",
            "total time used is: 566.19 s\n",
            "training on step:  750\n",
            "total time used is: 606.88 s\n",
            "training on step:  800\n",
            "total time used is: 647.48 s\n",
            "training on step:  850\n",
            "total time used is: 688.10 s\n",
            "average training loss: 0.15\n",
            "training on epoch:  1\n",
            "training on step:  50\n",
            "total time used is: 40.66 s\n",
            "training on step:  100\n",
            "total time used is: 81.27 s\n",
            "training on step:  150\n",
            "total time used is: 121.83 s\n",
            "training on step:  200\n",
            "total time used is: 162.40 s\n",
            "training on step:  250\n",
            "total time used is: 203.04 s\n",
            "training on step:  300\n",
            "total time used is: 243.70 s\n",
            "training on step:  350\n",
            "total time used is: 284.38 s\n",
            "training on step:  400\n",
            "total time used is: 325.06 s\n",
            "training on step:  450\n",
            "total time used is: 365.64 s\n",
            "training on step:  500\n",
            "total time used is: 406.23 s\n",
            "training on step:  550\n",
            "total time used is: 446.82 s\n",
            "training on step:  600\n",
            "total time used is: 487.49 s\n",
            "training on step:  650\n",
            "total time used is: 528.17 s\n",
            "training on step:  700\n",
            "total time used is: 568.86 s\n",
            "training on step:  750\n",
            "total time used is: 609.46 s\n",
            "training on step:  800\n",
            "total time used is: 650.00 s\n",
            "training on step:  850\n",
            "total time used is: 690.54 s\n",
            "average training loss: 0.02\n",
            "training on epoch:  2\n",
            "training on step:  50\n",
            "total time used is: 40.63 s\n",
            "training on step:  100\n",
            "total time used is: 81.44 s\n",
            "training on step:  150\n",
            "total time used is: 122.12 s\n",
            "training on step:  200\n",
            "total time used is: 162.71 s\n",
            "training on step:  250\n",
            "total time used is: 203.32 s\n",
            "training on step:  300\n",
            "total time used is: 243.91 s\n",
            "training on step:  350\n",
            "total time used is: 284.51 s\n",
            "training on step:  400\n",
            "total time used is: 325.16 s\n",
            "training on step:  450\n",
            "total time used is: 365.86 s\n",
            "training on step:  500\n",
            "total time used is: 406.48 s\n",
            "training on step:  550\n",
            "total time used is: 447.09 s\n",
            "training on step:  600\n",
            "total time used is: 487.70 s\n",
            "training on step:  650\n",
            "total time used is: 528.33 s\n",
            "training on step:  700\n",
            "total time used is: 568.99 s\n",
            "training on step:  750\n",
            "total time used is: 609.65 s\n",
            "training on step:  800\n",
            "total time used is: 650.27 s\n",
            "training on step:  850\n",
            "total time used is: 690.89 s\n",
            "average training loss: 0.01\n",
            "training on epoch:  3\n",
            "training on step:  50\n",
            "total time used is: 40.67 s\n",
            "training on step:  100\n",
            "total time used is: 81.30 s\n",
            "training on step:  150\n",
            "total time used is: 121.92 s\n",
            "training on step:  200\n",
            "total time used is: 162.53 s\n",
            "training on step:  250\n",
            "total time used is: 203.14 s\n",
            "training on step:  300\n",
            "total time used is: 243.82 s\n",
            "training on step:  350\n",
            "total time used is: 284.56 s\n",
            "training on step:  400\n",
            "total time used is: 325.20 s\n",
            "training on step:  450\n",
            "total time used is: 365.80 s\n",
            "training on step:  500\n",
            "total time used is: 406.46 s\n",
            "training on step:  550\n",
            "total time used is: 447.15 s\n",
            "training on step:  600\n",
            "total time used is: 487.84 s\n",
            "training on step:  650\n",
            "total time used is: 528.50 s\n",
            "training on step:  700\n",
            "total time used is: 569.08 s\n",
            "training on step:  750\n",
            "total time used is: 609.70 s\n",
            "training on step:  800\n",
            "total time used is: 650.36 s\n",
            "training on step:  850\n",
            "total time used is: 691.03 s\n",
            "average training loss: 0.00\n"
          ]
        }
      ],
      "source": [
        "# Store the average loss after each epoch\n",
        "loss_values = []\n",
        "# number of total steps for each epoch\n",
        "print('total steps per epoch: ',  len(train_dataloader) / batch_size)\n",
        "# looping over epochs\n",
        "for epoch_i in range(0, epochs):\n",
        "\n",
        "    print('training on epoch: ', epoch_i)\n",
        "    # set start time\n",
        "    t0 = time.time()\n",
        "    # reset total loss\n",
        "    total_loss = 0\n",
        "    # model in training\n",
        "    model.train()\n",
        "    # loop through batch\n",
        "    for step, batch in enumerate(train_dataloader):\n",
        "        # Progress update every 50 step\n",
        "        if step % 50 == 0 and not step == 0:\n",
        "            print('training on step: ', step)\n",
        "            print('total time used is: {0:.2f} s'.format(time.time() - t0))\n",
        "        # load data from dataloader\n",
        "        b_input_ids = batch[0].to(device)\n",
        "        b_input_mask = batch[1].to(device)\n",
        "        b_labels = batch[2].to(device)\n",
        "        # clear any previously calculated gradients\n",
        "        model.zero_grad()\n",
        "        # get outputs\n",
        "        outputs = model(b_input_ids,\n",
        "                        token_type_ids=None,\n",
        "                        attention_mask=b_input_mask,\n",
        "                        labels=b_labels)\n",
        "        # get loss\n",
        "        loss = outputs[0]\n",
        "        # total loss\n",
        "        total_loss += loss.item()\n",
        "        loss.backward()\n",
        "        # clip the norm of the gradients to 1.0.\n",
        "        #torch.nn.utils.clip_grad_norm_(model.parameters(), 1.0)\n",
        "        # update optimizer\n",
        "        optimizer.step()\n",
        "        # update learning rate\n",
        "        scheduler.step()\n",
        "    # Calculate the average loss over the training data.\n",
        "    avg_train_loss = total_loss / len(train_dataloader)\n",
        "    # Store the loss value for plotting the learning curve.\n",
        "    loss_values.append(avg_train_loss)\n",
        "    print(\"average training loss: {0:.2f}\".format(avg_train_loss))"
      ],
      "id": "23343c75"
    },
    {
      "cell_type": "markdown",
      "source": [
        "saving model with pickle"
      ],
      "metadata": {
        "id": "18M1_gZhknlW"
      },
      "id": "18M1_gZhknlW"
    },
    {
      "cell_type": "code",
      "source": [
        "pickle.dump(model, open('/content/drive/MyDrive/model_new.pkl', 'wb'))"
      ],
      "metadata": {
        "id": "5ehkvD0ykJSF"
      },
      "id": "5ehkvD0ykJSF",
      "execution_count": null,
      "outputs": []
    },
    {
      "cell_type": "code",
      "execution_count": null,
      "metadata": {
        "id": "TFxWlAKvFL73"
      },
      "outputs": [],
      "source": [
        "torch.cuda.empty_cache()"
      ],
      "id": "TFxWlAKvFL73"
    },
    {
      "cell_type": "code",
      "execution_count": 30,
      "metadata": {
        "id": "FMw9fKDaGMuz"
      },
      "outputs": [],
      "source": [
        "last_hidden_states = []"
      ],
      "id": "FMw9fKDaGMuz"
    },
    {
      "cell_type": "code",
      "execution_count": 31,
      "metadata": {
        "colab": {
          "base_uri": "https://localhost:8080/"
        },
        "id": "1d31c4cd",
        "outputId": "07d390b8-b070-475c-8933-89960f853a8b"
      },
      "outputs": [
        {
          "output_type": "stream",
          "name": "stdout",
          "text": [
            "total time used is: 91.76 s\n"
          ]
        }
      ],
      "source": [
        "import numpy as np\n",
        "t0 = time.time()\n",
        "# model in validation mode\n",
        "model.eval()\n",
        "# save prediction\n",
        "predictions,true_labels, logits_arr =[],[], []\n",
        "# evaluate data for one epoch\n",
        "for batch in validation_dataloader:\n",
        "    # Add batch to GPU\n",
        "    batch = tuple(t.to(device) for t in batch)\n",
        "    # Unpack the inputs from our dataloader\n",
        "    b_input_ids, b_input_mask, b_labels = batch\n",
        "    # validation\n",
        "    with torch.no_grad():\n",
        "        outputs = model(b_input_ids,\n",
        "                        token_type_ids=None,\n",
        "                        attention_mask=b_input_mask, output_hidden_states=True)\n",
        "    # get output\n",
        "    logits = outputs[0]\n",
        "    # move logits and labels to CPU\n",
        "    logits = logits.detach().cpu().numpy()\n",
        "    label_ids = b_labels.to('cpu').numpy()\n",
        "\n",
        "\n",
        "    last_layer_hidden_states = outputs.hidden_states[-1]\n",
        "    cls_embeddings = last_layer_hidden_states[:, 0]\n",
        "    last_hidden_states.append(cls_embeddings)\n",
        "    final_prediction = np.argmax(logits, axis=-1).flatten()\n",
        "    predictions.append(final_prediction)\n",
        "    true_labels.append(label_ids)\n",
        "\n",
        "print('total time used is: {0:.2f} s'.format(time.time() - t0))"
      ],
      "id": "1d31c4cd"
    },
    {
      "cell_type": "markdown",
      "source": [
        "## CHECKING QUALITY"
      ],
      "metadata": {
        "id": "WD0rhaTVlML3"
      },
      "id": "WD0rhaTVlML3"
    },
    {
      "cell_type": "code",
      "execution_count": 35,
      "metadata": {
        "id": "bcuI_zbGAHLk"
      },
      "outputs": [],
      "source": [
        "print(predictions)\n",
        "final_prediction_list = np.concatenate(predictions)\n",
        "final_truelabel_list = np.concatenate(true_labels)"
      ],
      "id": "bcuI_zbGAHLk"
    },
    {
      "cell_type": "code",
      "execution_count": 36,
      "metadata": {
        "colab": {
          "base_uri": "https://localhost:8080/"
        },
        "id": "YvEjcREoADe0",
        "outputId": "6552a9c1-2939-43e9-a6d5-02aa6bdb607e"
      },
      "outputs": [
        {
          "output_type": "stream",
          "name": "stdout",
          "text": [
            "              precision    recall  f1-score   support\n",
            "\n",
            "           0       0.99      1.00      0.99      1597\n",
            "           1       1.00      0.99      0.99      1403\n",
            "\n",
            "    accuracy                           0.99      3000\n",
            "   macro avg       0.99      0.99      0.99      3000\n",
            "weighted avg       0.99      0.99      0.99      3000\n",
            "\n"
          ]
        }
      ],
      "source": [
        "cr = classification_report(final_truelabel_list,\n",
        "                           final_prediction_list,\n",
        "                           output_dict=False)\n",
        "print(cr)"
      ],
      "id": "YvEjcREoADe0"
    },
    {
      "cell_type": "markdown",
      "source": [
        "seems good!"
      ],
      "metadata": {
        "id": "Rxzro_-bky7G"
      },
      "id": "Rxzro_-bky7G"
    },
    {
      "cell_type": "markdown",
      "source": [
        "## GETTING DISTANCES"
      ],
      "metadata": {
        "id": "v5uIDY5WlHkm"
      },
      "id": "v5uIDY5WlHkm"
    },
    {
      "cell_type": "code",
      "source": [
        "last_hidden_states_cpu = [tensor.to('cpu') for tensor in last_hidden_states]"
      ],
      "metadata": {
        "id": "q4JloSn4VVtD"
      },
      "id": "q4JloSn4VVtD",
      "execution_count": 131,
      "outputs": []
    },
    {
      "cell_type": "code",
      "source": [
        "document_info = {}\n",
        "\n",
        "\n",
        "for number_batches, embeds_batches, preds_batches in zip(numbers_dataloader, last_hidden_states_cpu, predictions):\n",
        "  for number, embed, preds in zip(number_batches.numpy(), embeds_batches, preds_batches):\n",
        "    info_pair = (embed, preds)\n",
        "    if document_info.get(number):\n",
        "      document_info[number].append(info_pair)\n",
        "    else:\n",
        "      document_info[number] = [(info_pair)]"
      ],
      "metadata": {
        "id": "8clAbepNT-LQ"
      },
      "id": "8clAbepNT-LQ",
      "execution_count": 145,
      "outputs": []
    },
    {
      "cell_type": "code",
      "source": [
        "cos = torch.nn.CosineSimilarity(dim=0)"
      ],
      "metadata": {
        "id": "q-nzlDwyk5kQ"
      },
      "id": "q-nzlDwyk5kQ",
      "execution_count": 167,
      "outputs": []
    },
    {
      "cell_type": "code",
      "source": [
        "distances = []\n",
        "\n",
        "for doc_num, paragraphes_info in document_info.items():\n",
        "  pairs = list(itertools.combinations(paragraphes_info, 2))\n",
        "  for paragraph_pairs in pairs:\n",
        "    current_distance = cos(paragraph_pairs[0][0], paragraph_pairs[1][0])\n",
        "    distances.append({\"number\": doc_num, \"cosine\": current_distance.to('cpu').numpy(), \"label1\": paragraph_pairs[0][1], \"label2\": paragraph_pairs[1][1]})"
      ],
      "metadata": {
        "id": "wxikLtePds5F"
      },
      "id": "wxikLtePds5F",
      "execution_count": 157,
      "outputs": []
    },
    {
      "cell_type": "code",
      "source": [
        "distances_df = pd.DataFrame(distances, columns = ['number', 'cosine', 'label1', 'label2'])"
      ],
      "metadata": {
        "id": "BDyXw-SegSLU"
      },
      "id": "BDyXw-SegSLU",
      "execution_count": 159,
      "outputs": []
    },
    {
      "cell_type": "code",
      "source": [
        "distances_df.head(10)"
      ],
      "metadata": {
        "colab": {
          "base_uri": "https://localhost:8080/",
          "height": 362
        },
        "id": "zPg1QZvklTg2",
        "outputId": "d4ae1ada-b465-41da-dc39-768e9879880e"
      },
      "id": "zPg1QZvklTg2",
      "execution_count": 168,
      "outputs": [
        {
          "output_type": "execute_result",
          "data": {
            "text/plain": [
              "   number       cosine  label1  label2\n",
              "0    1125    0.9896549       1       1\n",
              "1    1125  -0.43046382       1       0\n",
              "2    1125  -0.49120232       1       0\n",
              "3    1147     0.938515       1       1\n",
              "4    4201   0.99117595       1       1\n",
              "5    4779    0.9670364       1       1\n",
              "6    2056  -0.54217404       0       1\n",
              "7     740    0.9904757       0       0\n",
              "8    1627  -0.40273845       1       0\n",
              "9    1627  -0.41858622       1       0"
            ],
            "text/html": [
              "\n",
              "  <div id=\"df-0077848f-e8c0-4444-a9d6-fd0579531995\" class=\"colab-df-container\">\n",
              "    <div>\n",
              "<style scoped>\n",
              "    .dataframe tbody tr th:only-of-type {\n",
              "        vertical-align: middle;\n",
              "    }\n",
              "\n",
              "    .dataframe tbody tr th {\n",
              "        vertical-align: top;\n",
              "    }\n",
              "\n",
              "    .dataframe thead th {\n",
              "        text-align: right;\n",
              "    }\n",
              "</style>\n",
              "<table border=\"1\" class=\"dataframe\">\n",
              "  <thead>\n",
              "    <tr style=\"text-align: right;\">\n",
              "      <th></th>\n",
              "      <th>number</th>\n",
              "      <th>cosine</th>\n",
              "      <th>label1</th>\n",
              "      <th>label2</th>\n",
              "    </tr>\n",
              "  </thead>\n",
              "  <tbody>\n",
              "    <tr>\n",
              "      <th>0</th>\n",
              "      <td>1125</td>\n",
              "      <td>0.9896549</td>\n",
              "      <td>1</td>\n",
              "      <td>1</td>\n",
              "    </tr>\n",
              "    <tr>\n",
              "      <th>1</th>\n",
              "      <td>1125</td>\n",
              "      <td>-0.43046382</td>\n",
              "      <td>1</td>\n",
              "      <td>0</td>\n",
              "    </tr>\n",
              "    <tr>\n",
              "      <th>2</th>\n",
              "      <td>1125</td>\n",
              "      <td>-0.49120232</td>\n",
              "      <td>1</td>\n",
              "      <td>0</td>\n",
              "    </tr>\n",
              "    <tr>\n",
              "      <th>3</th>\n",
              "      <td>1147</td>\n",
              "      <td>0.938515</td>\n",
              "      <td>1</td>\n",
              "      <td>1</td>\n",
              "    </tr>\n",
              "    <tr>\n",
              "      <th>4</th>\n",
              "      <td>4201</td>\n",
              "      <td>0.99117595</td>\n",
              "      <td>1</td>\n",
              "      <td>1</td>\n",
              "    </tr>\n",
              "    <tr>\n",
              "      <th>5</th>\n",
              "      <td>4779</td>\n",
              "      <td>0.9670364</td>\n",
              "      <td>1</td>\n",
              "      <td>1</td>\n",
              "    </tr>\n",
              "    <tr>\n",
              "      <th>6</th>\n",
              "      <td>2056</td>\n",
              "      <td>-0.54217404</td>\n",
              "      <td>0</td>\n",
              "      <td>1</td>\n",
              "    </tr>\n",
              "    <tr>\n",
              "      <th>7</th>\n",
              "      <td>740</td>\n",
              "      <td>0.9904757</td>\n",
              "      <td>0</td>\n",
              "      <td>0</td>\n",
              "    </tr>\n",
              "    <tr>\n",
              "      <th>8</th>\n",
              "      <td>1627</td>\n",
              "      <td>-0.40273845</td>\n",
              "      <td>1</td>\n",
              "      <td>0</td>\n",
              "    </tr>\n",
              "    <tr>\n",
              "      <th>9</th>\n",
              "      <td>1627</td>\n",
              "      <td>-0.41858622</td>\n",
              "      <td>1</td>\n",
              "      <td>0</td>\n",
              "    </tr>\n",
              "  </tbody>\n",
              "</table>\n",
              "</div>\n",
              "    <div class=\"colab-df-buttons\">\n",
              "\n",
              "  <div class=\"colab-df-container\">\n",
              "    <button class=\"colab-df-convert\" onclick=\"convertToInteractive('df-0077848f-e8c0-4444-a9d6-fd0579531995')\"\n",
              "            title=\"Convert this dataframe to an interactive table.\"\n",
              "            style=\"display:none;\">\n",
              "\n",
              "  <svg xmlns=\"http://www.w3.org/2000/svg\" height=\"24px\" viewBox=\"0 -960 960 960\">\n",
              "    <path d=\"M120-120v-720h720v720H120Zm60-500h600v-160H180v160Zm220 220h160v-160H400v160Zm0 220h160v-160H400v160ZM180-400h160v-160H180v160Zm440 0h160v-160H620v160ZM180-180h160v-160H180v160Zm440 0h160v-160H620v160Z\"/>\n",
              "  </svg>\n",
              "    </button>\n",
              "\n",
              "  <style>\n",
              "    .colab-df-container {\n",
              "      display:flex;\n",
              "      gap: 12px;\n",
              "    }\n",
              "\n",
              "    .colab-df-convert {\n",
              "      background-color: #E8F0FE;\n",
              "      border: none;\n",
              "      border-radius: 50%;\n",
              "      cursor: pointer;\n",
              "      display: none;\n",
              "      fill: #1967D2;\n",
              "      height: 32px;\n",
              "      padding: 0 0 0 0;\n",
              "      width: 32px;\n",
              "    }\n",
              "\n",
              "    .colab-df-convert:hover {\n",
              "      background-color: #E2EBFA;\n",
              "      box-shadow: 0px 1px 2px rgba(60, 64, 67, 0.3), 0px 1px 3px 1px rgba(60, 64, 67, 0.15);\n",
              "      fill: #174EA6;\n",
              "    }\n",
              "\n",
              "    .colab-df-buttons div {\n",
              "      margin-bottom: 4px;\n",
              "    }\n",
              "\n",
              "    [theme=dark] .colab-df-convert {\n",
              "      background-color: #3B4455;\n",
              "      fill: #D2E3FC;\n",
              "    }\n",
              "\n",
              "    [theme=dark] .colab-df-convert:hover {\n",
              "      background-color: #434B5C;\n",
              "      box-shadow: 0px 1px 3px 1px rgba(0, 0, 0, 0.15);\n",
              "      filter: drop-shadow(0px 1px 2px rgba(0, 0, 0, 0.3));\n",
              "      fill: #FFFFFF;\n",
              "    }\n",
              "  </style>\n",
              "\n",
              "    <script>\n",
              "      const buttonEl =\n",
              "        document.querySelector('#df-0077848f-e8c0-4444-a9d6-fd0579531995 button.colab-df-convert');\n",
              "      buttonEl.style.display =\n",
              "        google.colab.kernel.accessAllowed ? 'block' : 'none';\n",
              "\n",
              "      async function convertToInteractive(key) {\n",
              "        const element = document.querySelector('#df-0077848f-e8c0-4444-a9d6-fd0579531995');\n",
              "        const dataTable =\n",
              "          await google.colab.kernel.invokeFunction('convertToInteractive',\n",
              "                                                    [key], {});\n",
              "        if (!dataTable) return;\n",
              "\n",
              "        const docLinkHtml = 'Like what you see? Visit the ' +\n",
              "          '<a target=\"_blank\" href=https://colab.research.google.com/notebooks/data_table.ipynb>data table notebook</a>'\n",
              "          + ' to learn more about interactive tables.';\n",
              "        element.innerHTML = '';\n",
              "        dataTable['output_type'] = 'display_data';\n",
              "        await google.colab.output.renderOutput(dataTable, element);\n",
              "        const docLink = document.createElement('div');\n",
              "        docLink.innerHTML = docLinkHtml;\n",
              "        element.appendChild(docLink);\n",
              "      }\n",
              "    </script>\n",
              "  </div>\n",
              "\n",
              "\n",
              "<div id=\"df-cfcbfa44-5a5a-48cf-9e44-b79cb85e7ecb\">\n",
              "  <button class=\"colab-df-quickchart\" onclick=\"quickchart('df-cfcbfa44-5a5a-48cf-9e44-b79cb85e7ecb')\"\n",
              "            title=\"Suggest charts.\"\n",
              "            style=\"display:none;\">\n",
              "\n",
              "<svg xmlns=\"http://www.w3.org/2000/svg\" height=\"24px\"viewBox=\"0 0 24 24\"\n",
              "     width=\"24px\">\n",
              "    <g>\n",
              "        <path d=\"M19 3H5c-1.1 0-2 .9-2 2v14c0 1.1.9 2 2 2h14c1.1 0 2-.9 2-2V5c0-1.1-.9-2-2-2zM9 17H7v-7h2v7zm4 0h-2V7h2v10zm4 0h-2v-4h2v4z\"/>\n",
              "    </g>\n",
              "</svg>\n",
              "  </button>\n",
              "\n",
              "<style>\n",
              "  .colab-df-quickchart {\n",
              "      --bg-color: #E8F0FE;\n",
              "      --fill-color: #1967D2;\n",
              "      --hover-bg-color: #E2EBFA;\n",
              "      --hover-fill-color: #174EA6;\n",
              "      --disabled-fill-color: #AAA;\n",
              "      --disabled-bg-color: #DDD;\n",
              "  }\n",
              "\n",
              "  [theme=dark] .colab-df-quickchart {\n",
              "      --bg-color: #3B4455;\n",
              "      --fill-color: #D2E3FC;\n",
              "      --hover-bg-color: #434B5C;\n",
              "      --hover-fill-color: #FFFFFF;\n",
              "      --disabled-bg-color: #3B4455;\n",
              "      --disabled-fill-color: #666;\n",
              "  }\n",
              "\n",
              "  .colab-df-quickchart {\n",
              "    background-color: var(--bg-color);\n",
              "    border: none;\n",
              "    border-radius: 50%;\n",
              "    cursor: pointer;\n",
              "    display: none;\n",
              "    fill: var(--fill-color);\n",
              "    height: 32px;\n",
              "    padding: 0;\n",
              "    width: 32px;\n",
              "  }\n",
              "\n",
              "  .colab-df-quickchart:hover {\n",
              "    background-color: var(--hover-bg-color);\n",
              "    box-shadow: 0 1px 2px rgba(60, 64, 67, 0.3), 0 1px 3px 1px rgba(60, 64, 67, 0.15);\n",
              "    fill: var(--button-hover-fill-color);\n",
              "  }\n",
              "\n",
              "  .colab-df-quickchart-complete:disabled,\n",
              "  .colab-df-quickchart-complete:disabled:hover {\n",
              "    background-color: var(--disabled-bg-color);\n",
              "    fill: var(--disabled-fill-color);\n",
              "    box-shadow: none;\n",
              "  }\n",
              "\n",
              "  .colab-df-spinner {\n",
              "    border: 2px solid var(--fill-color);\n",
              "    border-color: transparent;\n",
              "    border-bottom-color: var(--fill-color);\n",
              "    animation:\n",
              "      spin 1s steps(1) infinite;\n",
              "  }\n",
              "\n",
              "  @keyframes spin {\n",
              "    0% {\n",
              "      border-color: transparent;\n",
              "      border-bottom-color: var(--fill-color);\n",
              "      border-left-color: var(--fill-color);\n",
              "    }\n",
              "    20% {\n",
              "      border-color: transparent;\n",
              "      border-left-color: var(--fill-color);\n",
              "      border-top-color: var(--fill-color);\n",
              "    }\n",
              "    30% {\n",
              "      border-color: transparent;\n",
              "      border-left-color: var(--fill-color);\n",
              "      border-top-color: var(--fill-color);\n",
              "      border-right-color: var(--fill-color);\n",
              "    }\n",
              "    40% {\n",
              "      border-color: transparent;\n",
              "      border-right-color: var(--fill-color);\n",
              "      border-top-color: var(--fill-color);\n",
              "    }\n",
              "    60% {\n",
              "      border-color: transparent;\n",
              "      border-right-color: var(--fill-color);\n",
              "    }\n",
              "    80% {\n",
              "      border-color: transparent;\n",
              "      border-right-color: var(--fill-color);\n",
              "      border-bottom-color: var(--fill-color);\n",
              "    }\n",
              "    90% {\n",
              "      border-color: transparent;\n",
              "      border-bottom-color: var(--fill-color);\n",
              "    }\n",
              "  }\n",
              "</style>\n",
              "\n",
              "  <script>\n",
              "    async function quickchart(key) {\n",
              "      const quickchartButtonEl =\n",
              "        document.querySelector('#' + key + ' button');\n",
              "      quickchartButtonEl.disabled = true;  // To prevent multiple clicks.\n",
              "      quickchartButtonEl.classList.add('colab-df-spinner');\n",
              "      try {\n",
              "        const charts = await google.colab.kernel.invokeFunction(\n",
              "            'suggestCharts', [key], {});\n",
              "      } catch (error) {\n",
              "        console.error('Error during call to suggestCharts:', error);\n",
              "      }\n",
              "      quickchartButtonEl.classList.remove('colab-df-spinner');\n",
              "      quickchartButtonEl.classList.add('colab-df-quickchart-complete');\n",
              "    }\n",
              "    (() => {\n",
              "      let quickchartButtonEl =\n",
              "        document.querySelector('#df-cfcbfa44-5a5a-48cf-9e44-b79cb85e7ecb button');\n",
              "      quickchartButtonEl.style.display =\n",
              "        google.colab.kernel.accessAllowed ? 'block' : 'none';\n",
              "    })();\n",
              "  </script>\n",
              "</div>\n",
              "    </div>\n",
              "  </div>\n"
            ]
          },
          "metadata": {},
          "execution_count": 168
        }
      ]
    },
    {
      "cell_type": "code",
      "source": [
        "distances_df.to_csv('paragraphs_cosine_distances.csv')"
      ],
      "metadata": {
        "id": "LeEHXObSgZ3a"
      },
      "id": "LeEHXObSgZ3a",
      "execution_count": 166,
      "outputs": []
    }
  ],
  "metadata": {
    "accelerator": "GPU",
    "colab": {
      "provenance": [],
      "collapsed_sections": [
        "WD0rhaTVlML3"
      ],
      "toc_visible": true
    },
    "kernelspec": {
      "display_name": "Python 3",
      "name": "python3"
    },
    "language_info": {
      "codemirror_mode": {
        "name": "ipython",
        "version": 3
      },
      "file_extension": ".py",
      "mimetype": "text/x-python",
      "name": "python",
      "nbconvert_exporter": "python",
      "pygments_lexer": "ipython3",
      "version": "3.8.17"
    },
    "widgets": {
      "application/vnd.jupyter.widget-state+json": {
        "e9981a5bc5574a6f9dc0f463690abdd6": {
          "model_module": "@jupyter-widgets/controls",
          "model_name": "HBoxModel",
          "model_module_version": "1.5.0",
          "state": {
            "_dom_classes": [],
            "_model_module": "@jupyter-widgets/controls",
            "_model_module_version": "1.5.0",
            "_model_name": "HBoxModel",
            "_view_count": null,
            "_view_module": "@jupyter-widgets/controls",
            "_view_module_version": "1.5.0",
            "_view_name": "HBoxView",
            "box_style": "",
            "children": [
              "IPY_MODEL_c9294ca2eba14a89bcee0bda84de24da",
              "IPY_MODEL_b77cce32b5384f8c86e501fed7fd7b91",
              "IPY_MODEL_8cc5879f55c44235b2ebca5725514c02"
            ],
            "layout": "IPY_MODEL_9e546ad3bc304af08c79f5e2098895ea"
          }
        },
        "c9294ca2eba14a89bcee0bda84de24da": {
          "model_module": "@jupyter-widgets/controls",
          "model_name": "HTMLModel",
          "model_module_version": "1.5.0",
          "state": {
            "_dom_classes": [],
            "_model_module": "@jupyter-widgets/controls",
            "_model_module_version": "1.5.0",
            "_model_name": "HTMLModel",
            "_view_count": null,
            "_view_module": "@jupyter-widgets/controls",
            "_view_module_version": "1.5.0",
            "_view_name": "HTMLView",
            "description": "",
            "description_tooltip": null,
            "layout": "IPY_MODEL_92e3219a16234e2180bc7279a2177f6d",
            "placeholder": "​",
            "style": "IPY_MODEL_cd619bd054b6470f931a66575949b9d1",
            "value": "Downloading (…)lve/main/config.json: 100%"
          }
        },
        "b77cce32b5384f8c86e501fed7fd7b91": {
          "model_module": "@jupyter-widgets/controls",
          "model_name": "FloatProgressModel",
          "model_module_version": "1.5.0",
          "state": {
            "_dom_classes": [],
            "_model_module": "@jupyter-widgets/controls",
            "_model_module_version": "1.5.0",
            "_model_name": "FloatProgressModel",
            "_view_count": null,
            "_view_module": "@jupyter-widgets/controls",
            "_view_module_version": "1.5.0",
            "_view_name": "ProgressView",
            "bar_style": "success",
            "description": "",
            "description_tooltip": null,
            "layout": "IPY_MODEL_0d51e499857942b4919b6cebc879c49a",
            "max": 615,
            "min": 0,
            "orientation": "horizontal",
            "style": "IPY_MODEL_571f28d692134432ad5799f200821056",
            "value": 615
          }
        },
        "8cc5879f55c44235b2ebca5725514c02": {
          "model_module": "@jupyter-widgets/controls",
          "model_name": "HTMLModel",
          "model_module_version": "1.5.0",
          "state": {
            "_dom_classes": [],
            "_model_module": "@jupyter-widgets/controls",
            "_model_module_version": "1.5.0",
            "_model_name": "HTMLModel",
            "_view_count": null,
            "_view_module": "@jupyter-widgets/controls",
            "_view_module_version": "1.5.0",
            "_view_name": "HTMLView",
            "description": "",
            "description_tooltip": null,
            "layout": "IPY_MODEL_f4b1bdf5f9ec46ef935a5cd94d8486f3",
            "placeholder": "​",
            "style": "IPY_MODEL_2c8e955f9fef46eea247685e9ec8b9d4",
            "value": " 615/615 [00:00&lt;00:00, 24.5kB/s]"
          }
        },
        "9e546ad3bc304af08c79f5e2098895ea": {
          "model_module": "@jupyter-widgets/base",
          "model_name": "LayoutModel",
          "model_module_version": "1.2.0",
          "state": {
            "_model_module": "@jupyter-widgets/base",
            "_model_module_version": "1.2.0",
            "_model_name": "LayoutModel",
            "_view_count": null,
            "_view_module": "@jupyter-widgets/base",
            "_view_module_version": "1.2.0",
            "_view_name": "LayoutView",
            "align_content": null,
            "align_items": null,
            "align_self": null,
            "border": null,
            "bottom": null,
            "display": null,
            "flex": null,
            "flex_flow": null,
            "grid_area": null,
            "grid_auto_columns": null,
            "grid_auto_flow": null,
            "grid_auto_rows": null,
            "grid_column": null,
            "grid_gap": null,
            "grid_row": null,
            "grid_template_areas": null,
            "grid_template_columns": null,
            "grid_template_rows": null,
            "height": null,
            "justify_content": null,
            "justify_items": null,
            "left": null,
            "margin": null,
            "max_height": null,
            "max_width": null,
            "min_height": null,
            "min_width": null,
            "object_fit": null,
            "object_position": null,
            "order": null,
            "overflow": null,
            "overflow_x": null,
            "overflow_y": null,
            "padding": null,
            "right": null,
            "top": null,
            "visibility": null,
            "width": null
          }
        },
        "92e3219a16234e2180bc7279a2177f6d": {
          "model_module": "@jupyter-widgets/base",
          "model_name": "LayoutModel",
          "model_module_version": "1.2.0",
          "state": {
            "_model_module": "@jupyter-widgets/base",
            "_model_module_version": "1.2.0",
            "_model_name": "LayoutModel",
            "_view_count": null,
            "_view_module": "@jupyter-widgets/base",
            "_view_module_version": "1.2.0",
            "_view_name": "LayoutView",
            "align_content": null,
            "align_items": null,
            "align_self": null,
            "border": null,
            "bottom": null,
            "display": null,
            "flex": null,
            "flex_flow": null,
            "grid_area": null,
            "grid_auto_columns": null,
            "grid_auto_flow": null,
            "grid_auto_rows": null,
            "grid_column": null,
            "grid_gap": null,
            "grid_row": null,
            "grid_template_areas": null,
            "grid_template_columns": null,
            "grid_template_rows": null,
            "height": null,
            "justify_content": null,
            "justify_items": null,
            "left": null,
            "margin": null,
            "max_height": null,
            "max_width": null,
            "min_height": null,
            "min_width": null,
            "object_fit": null,
            "object_position": null,
            "order": null,
            "overflow": null,
            "overflow_x": null,
            "overflow_y": null,
            "padding": null,
            "right": null,
            "top": null,
            "visibility": null,
            "width": null
          }
        },
        "cd619bd054b6470f931a66575949b9d1": {
          "model_module": "@jupyter-widgets/controls",
          "model_name": "DescriptionStyleModel",
          "model_module_version": "1.5.0",
          "state": {
            "_model_module": "@jupyter-widgets/controls",
            "_model_module_version": "1.5.0",
            "_model_name": "DescriptionStyleModel",
            "_view_count": null,
            "_view_module": "@jupyter-widgets/base",
            "_view_module_version": "1.2.0",
            "_view_name": "StyleView",
            "description_width": ""
          }
        },
        "0d51e499857942b4919b6cebc879c49a": {
          "model_module": "@jupyter-widgets/base",
          "model_name": "LayoutModel",
          "model_module_version": "1.2.0",
          "state": {
            "_model_module": "@jupyter-widgets/base",
            "_model_module_version": "1.2.0",
            "_model_name": "LayoutModel",
            "_view_count": null,
            "_view_module": "@jupyter-widgets/base",
            "_view_module_version": "1.2.0",
            "_view_name": "LayoutView",
            "align_content": null,
            "align_items": null,
            "align_self": null,
            "border": null,
            "bottom": null,
            "display": null,
            "flex": null,
            "flex_flow": null,
            "grid_area": null,
            "grid_auto_columns": null,
            "grid_auto_flow": null,
            "grid_auto_rows": null,
            "grid_column": null,
            "grid_gap": null,
            "grid_row": null,
            "grid_template_areas": null,
            "grid_template_columns": null,
            "grid_template_rows": null,
            "height": null,
            "justify_content": null,
            "justify_items": null,
            "left": null,
            "margin": null,
            "max_height": null,
            "max_width": null,
            "min_height": null,
            "min_width": null,
            "object_fit": null,
            "object_position": null,
            "order": null,
            "overflow": null,
            "overflow_x": null,
            "overflow_y": null,
            "padding": null,
            "right": null,
            "top": null,
            "visibility": null,
            "width": null
          }
        },
        "571f28d692134432ad5799f200821056": {
          "model_module": "@jupyter-widgets/controls",
          "model_name": "ProgressStyleModel",
          "model_module_version": "1.5.0",
          "state": {
            "_model_module": "@jupyter-widgets/controls",
            "_model_module_version": "1.5.0",
            "_model_name": "ProgressStyleModel",
            "_view_count": null,
            "_view_module": "@jupyter-widgets/base",
            "_view_module_version": "1.2.0",
            "_view_name": "StyleView",
            "bar_color": null,
            "description_width": ""
          }
        },
        "f4b1bdf5f9ec46ef935a5cd94d8486f3": {
          "model_module": "@jupyter-widgets/base",
          "model_name": "LayoutModel",
          "model_module_version": "1.2.0",
          "state": {
            "_model_module": "@jupyter-widgets/base",
            "_model_module_version": "1.2.0",
            "_model_name": "LayoutModel",
            "_view_count": null,
            "_view_module": "@jupyter-widgets/base",
            "_view_module_version": "1.2.0",
            "_view_name": "LayoutView",
            "align_content": null,
            "align_items": null,
            "align_self": null,
            "border": null,
            "bottom": null,
            "display": null,
            "flex": null,
            "flex_flow": null,
            "grid_area": null,
            "grid_auto_columns": null,
            "grid_auto_flow": null,
            "grid_auto_rows": null,
            "grid_column": null,
            "grid_gap": null,
            "grid_row": null,
            "grid_template_areas": null,
            "grid_template_columns": null,
            "grid_template_rows": null,
            "height": null,
            "justify_content": null,
            "justify_items": null,
            "left": null,
            "margin": null,
            "max_height": null,
            "max_width": null,
            "min_height": null,
            "min_width": null,
            "object_fit": null,
            "object_position": null,
            "order": null,
            "overflow": null,
            "overflow_x": null,
            "overflow_y": null,
            "padding": null,
            "right": null,
            "top": null,
            "visibility": null,
            "width": null
          }
        },
        "2c8e955f9fef46eea247685e9ec8b9d4": {
          "model_module": "@jupyter-widgets/controls",
          "model_name": "DescriptionStyleModel",
          "model_module_version": "1.5.0",
          "state": {
            "_model_module": "@jupyter-widgets/controls",
            "_model_module_version": "1.5.0",
            "_model_name": "DescriptionStyleModel",
            "_view_count": null,
            "_view_module": "@jupyter-widgets/base",
            "_view_module_version": "1.2.0",
            "_view_name": "StyleView",
            "description_width": ""
          }
        },
        "d34580ef6fcf4bf0a6c0c0a8cb320920": {
          "model_module": "@jupyter-widgets/controls",
          "model_name": "HBoxModel",
          "model_module_version": "1.5.0",
          "state": {
            "_dom_classes": [],
            "_model_module": "@jupyter-widgets/controls",
            "_model_module_version": "1.5.0",
            "_model_name": "HBoxModel",
            "_view_count": null,
            "_view_module": "@jupyter-widgets/controls",
            "_view_module_version": "1.5.0",
            "_view_name": "HBoxView",
            "box_style": "",
            "children": [
              "IPY_MODEL_273d9efae9474b35b336522166bbf798",
              "IPY_MODEL_469302e99408460fb64e2f8efc1b8bec",
              "IPY_MODEL_73d4759287274373b0bf6cdd94816340"
            ],
            "layout": "IPY_MODEL_e69ccc989fbc4df59ae1126a2fb860ec"
          }
        },
        "273d9efae9474b35b336522166bbf798": {
          "model_module": "@jupyter-widgets/controls",
          "model_name": "HTMLModel",
          "model_module_version": "1.5.0",
          "state": {
            "_dom_classes": [],
            "_model_module": "@jupyter-widgets/controls",
            "_model_module_version": "1.5.0",
            "_model_name": "HTMLModel",
            "_view_count": null,
            "_view_module": "@jupyter-widgets/controls",
            "_view_module_version": "1.5.0",
            "_view_name": "HTMLView",
            "description": "",
            "description_tooltip": null,
            "layout": "IPY_MODEL_a95b2c3af4944f6da3d0adeeb36b19e9",
            "placeholder": "​",
            "style": "IPY_MODEL_22ef9814b27242b389379b8fa7f552b3",
            "value": "Downloading (…)tencepiece.bpe.model: 100%"
          }
        },
        "469302e99408460fb64e2f8efc1b8bec": {
          "model_module": "@jupyter-widgets/controls",
          "model_name": "FloatProgressModel",
          "model_module_version": "1.5.0",
          "state": {
            "_dom_classes": [],
            "_model_module": "@jupyter-widgets/controls",
            "_model_module_version": "1.5.0",
            "_model_name": "FloatProgressModel",
            "_view_count": null,
            "_view_module": "@jupyter-widgets/controls",
            "_view_module_version": "1.5.0",
            "_view_name": "ProgressView",
            "bar_style": "success",
            "description": "",
            "description_tooltip": null,
            "layout": "IPY_MODEL_0d45d0e2c599493db8956a0eb2bb2752",
            "max": 5069051,
            "min": 0,
            "orientation": "horizontal",
            "style": "IPY_MODEL_ac29ea13a1e84316b424bb62bb2ca734",
            "value": 5069051
          }
        },
        "73d4759287274373b0bf6cdd94816340": {
          "model_module": "@jupyter-widgets/controls",
          "model_name": "HTMLModel",
          "model_module_version": "1.5.0",
          "state": {
            "_dom_classes": [],
            "_model_module": "@jupyter-widgets/controls",
            "_model_module_version": "1.5.0",
            "_model_name": "HTMLModel",
            "_view_count": null,
            "_view_module": "@jupyter-widgets/controls",
            "_view_module_version": "1.5.0",
            "_view_name": "HTMLView",
            "description": "",
            "description_tooltip": null,
            "layout": "IPY_MODEL_97e985a4e41041689fa4f47e31670ab6",
            "placeholder": "​",
            "style": "IPY_MODEL_3146ff97c3c94690818fb81f9d835bb5",
            "value": " 5.07M/5.07M [00:00&lt;00:00, 9.41MB/s]"
          }
        },
        "e69ccc989fbc4df59ae1126a2fb860ec": {
          "model_module": "@jupyter-widgets/base",
          "model_name": "LayoutModel",
          "model_module_version": "1.2.0",
          "state": {
            "_model_module": "@jupyter-widgets/base",
            "_model_module_version": "1.2.0",
            "_model_name": "LayoutModel",
            "_view_count": null,
            "_view_module": "@jupyter-widgets/base",
            "_view_module_version": "1.2.0",
            "_view_name": "LayoutView",
            "align_content": null,
            "align_items": null,
            "align_self": null,
            "border": null,
            "bottom": null,
            "display": null,
            "flex": null,
            "flex_flow": null,
            "grid_area": null,
            "grid_auto_columns": null,
            "grid_auto_flow": null,
            "grid_auto_rows": null,
            "grid_column": null,
            "grid_gap": null,
            "grid_row": null,
            "grid_template_areas": null,
            "grid_template_columns": null,
            "grid_template_rows": null,
            "height": null,
            "justify_content": null,
            "justify_items": null,
            "left": null,
            "margin": null,
            "max_height": null,
            "max_width": null,
            "min_height": null,
            "min_width": null,
            "object_fit": null,
            "object_position": null,
            "order": null,
            "overflow": null,
            "overflow_x": null,
            "overflow_y": null,
            "padding": null,
            "right": null,
            "top": null,
            "visibility": null,
            "width": null
          }
        },
        "a95b2c3af4944f6da3d0adeeb36b19e9": {
          "model_module": "@jupyter-widgets/base",
          "model_name": "LayoutModel",
          "model_module_version": "1.2.0",
          "state": {
            "_model_module": "@jupyter-widgets/base",
            "_model_module_version": "1.2.0",
            "_model_name": "LayoutModel",
            "_view_count": null,
            "_view_module": "@jupyter-widgets/base",
            "_view_module_version": "1.2.0",
            "_view_name": "LayoutView",
            "align_content": null,
            "align_items": null,
            "align_self": null,
            "border": null,
            "bottom": null,
            "display": null,
            "flex": null,
            "flex_flow": null,
            "grid_area": null,
            "grid_auto_columns": null,
            "grid_auto_flow": null,
            "grid_auto_rows": null,
            "grid_column": null,
            "grid_gap": null,
            "grid_row": null,
            "grid_template_areas": null,
            "grid_template_columns": null,
            "grid_template_rows": null,
            "height": null,
            "justify_content": null,
            "justify_items": null,
            "left": null,
            "margin": null,
            "max_height": null,
            "max_width": null,
            "min_height": null,
            "min_width": null,
            "object_fit": null,
            "object_position": null,
            "order": null,
            "overflow": null,
            "overflow_x": null,
            "overflow_y": null,
            "padding": null,
            "right": null,
            "top": null,
            "visibility": null,
            "width": null
          }
        },
        "22ef9814b27242b389379b8fa7f552b3": {
          "model_module": "@jupyter-widgets/controls",
          "model_name": "DescriptionStyleModel",
          "model_module_version": "1.5.0",
          "state": {
            "_model_module": "@jupyter-widgets/controls",
            "_model_module_version": "1.5.0",
            "_model_name": "DescriptionStyleModel",
            "_view_count": null,
            "_view_module": "@jupyter-widgets/base",
            "_view_module_version": "1.2.0",
            "_view_name": "StyleView",
            "description_width": ""
          }
        },
        "0d45d0e2c599493db8956a0eb2bb2752": {
          "model_module": "@jupyter-widgets/base",
          "model_name": "LayoutModel",
          "model_module_version": "1.2.0",
          "state": {
            "_model_module": "@jupyter-widgets/base",
            "_model_module_version": "1.2.0",
            "_model_name": "LayoutModel",
            "_view_count": null,
            "_view_module": "@jupyter-widgets/base",
            "_view_module_version": "1.2.0",
            "_view_name": "LayoutView",
            "align_content": null,
            "align_items": null,
            "align_self": null,
            "border": null,
            "bottom": null,
            "display": null,
            "flex": null,
            "flex_flow": null,
            "grid_area": null,
            "grid_auto_columns": null,
            "grid_auto_flow": null,
            "grid_auto_rows": null,
            "grid_column": null,
            "grid_gap": null,
            "grid_row": null,
            "grid_template_areas": null,
            "grid_template_columns": null,
            "grid_template_rows": null,
            "height": null,
            "justify_content": null,
            "justify_items": null,
            "left": null,
            "margin": null,
            "max_height": null,
            "max_width": null,
            "min_height": null,
            "min_width": null,
            "object_fit": null,
            "object_position": null,
            "order": null,
            "overflow": null,
            "overflow_x": null,
            "overflow_y": null,
            "padding": null,
            "right": null,
            "top": null,
            "visibility": null,
            "width": null
          }
        },
        "ac29ea13a1e84316b424bb62bb2ca734": {
          "model_module": "@jupyter-widgets/controls",
          "model_name": "ProgressStyleModel",
          "model_module_version": "1.5.0",
          "state": {
            "_model_module": "@jupyter-widgets/controls",
            "_model_module_version": "1.5.0",
            "_model_name": "ProgressStyleModel",
            "_view_count": null,
            "_view_module": "@jupyter-widgets/base",
            "_view_module_version": "1.2.0",
            "_view_name": "StyleView",
            "bar_color": null,
            "description_width": ""
          }
        },
        "97e985a4e41041689fa4f47e31670ab6": {
          "model_module": "@jupyter-widgets/base",
          "model_name": "LayoutModel",
          "model_module_version": "1.2.0",
          "state": {
            "_model_module": "@jupyter-widgets/base",
            "_model_module_version": "1.2.0",
            "_model_name": "LayoutModel",
            "_view_count": null,
            "_view_module": "@jupyter-widgets/base",
            "_view_module_version": "1.2.0",
            "_view_name": "LayoutView",
            "align_content": null,
            "align_items": null,
            "align_self": null,
            "border": null,
            "bottom": null,
            "display": null,
            "flex": null,
            "flex_flow": null,
            "grid_area": null,
            "grid_auto_columns": null,
            "grid_auto_flow": null,
            "grid_auto_rows": null,
            "grid_column": null,
            "grid_gap": null,
            "grid_row": null,
            "grid_template_areas": null,
            "grid_template_columns": null,
            "grid_template_rows": null,
            "height": null,
            "justify_content": null,
            "justify_items": null,
            "left": null,
            "margin": null,
            "max_height": null,
            "max_width": null,
            "min_height": null,
            "min_width": null,
            "object_fit": null,
            "object_position": null,
            "order": null,
            "overflow": null,
            "overflow_x": null,
            "overflow_y": null,
            "padding": null,
            "right": null,
            "top": null,
            "visibility": null,
            "width": null
          }
        },
        "3146ff97c3c94690818fb81f9d835bb5": {
          "model_module": "@jupyter-widgets/controls",
          "model_name": "DescriptionStyleModel",
          "model_module_version": "1.5.0",
          "state": {
            "_model_module": "@jupyter-widgets/controls",
            "_model_module_version": "1.5.0",
            "_model_name": "DescriptionStyleModel",
            "_view_count": null,
            "_view_module": "@jupyter-widgets/base",
            "_view_module_version": "1.2.0",
            "_view_name": "StyleView",
            "description_width": ""
          }
        },
        "d4d9cafa87dc419b80a2f72fa4d4ba57": {
          "model_module": "@jupyter-widgets/controls",
          "model_name": "HBoxModel",
          "model_module_version": "1.5.0",
          "state": {
            "_dom_classes": [],
            "_model_module": "@jupyter-widgets/controls",
            "_model_module_version": "1.5.0",
            "_model_name": "HBoxModel",
            "_view_count": null,
            "_view_module": "@jupyter-widgets/controls",
            "_view_module_version": "1.5.0",
            "_view_name": "HBoxView",
            "box_style": "",
            "children": [
              "IPY_MODEL_78f6a71582ea4a7e8c07b94cc9b426cf",
              "IPY_MODEL_86b949f54cc94e668b9c1429ef47e437",
              "IPY_MODEL_67a3c4385e56448b89c02ba6e3901a73"
            ],
            "layout": "IPY_MODEL_efff6f1e2a9c44138c877d1e5dc21e04"
          }
        },
        "78f6a71582ea4a7e8c07b94cc9b426cf": {
          "model_module": "@jupyter-widgets/controls",
          "model_name": "HTMLModel",
          "model_module_version": "1.5.0",
          "state": {
            "_dom_classes": [],
            "_model_module": "@jupyter-widgets/controls",
            "_model_module_version": "1.5.0",
            "_model_name": "HTMLModel",
            "_view_count": null,
            "_view_module": "@jupyter-widgets/controls",
            "_view_module_version": "1.5.0",
            "_view_name": "HTMLView",
            "description": "",
            "description_tooltip": null,
            "layout": "IPY_MODEL_1d550ac43a70441db2b8ff343ea29ea2",
            "placeholder": "​",
            "style": "IPY_MODEL_092794b9859448c9a1be6180a86cf76d",
            "value": "Downloading (…)/main/tokenizer.json: 100%"
          }
        },
        "86b949f54cc94e668b9c1429ef47e437": {
          "model_module": "@jupyter-widgets/controls",
          "model_name": "FloatProgressModel",
          "model_module_version": "1.5.0",
          "state": {
            "_dom_classes": [],
            "_model_module": "@jupyter-widgets/controls",
            "_model_module_version": "1.5.0",
            "_model_name": "FloatProgressModel",
            "_view_count": null,
            "_view_module": "@jupyter-widgets/controls",
            "_view_module_version": "1.5.0",
            "_view_name": "ProgressView",
            "bar_style": "success",
            "description": "",
            "description_tooltip": null,
            "layout": "IPY_MODEL_0d82b90d62d54dd581f86ffa56fd92f5",
            "max": 9096718,
            "min": 0,
            "orientation": "horizontal",
            "style": "IPY_MODEL_2e7b97b27f5f4946b51d3ec019eddf20",
            "value": 9096718
          }
        },
        "67a3c4385e56448b89c02ba6e3901a73": {
          "model_module": "@jupyter-widgets/controls",
          "model_name": "HTMLModel",
          "model_module_version": "1.5.0",
          "state": {
            "_dom_classes": [],
            "_model_module": "@jupyter-widgets/controls",
            "_model_module_version": "1.5.0",
            "_model_name": "HTMLModel",
            "_view_count": null,
            "_view_module": "@jupyter-widgets/controls",
            "_view_module_version": "1.5.0",
            "_view_name": "HTMLView",
            "description": "",
            "description_tooltip": null,
            "layout": "IPY_MODEL_c1b87838782d4d27b9de5a8e8b06427e",
            "placeholder": "​",
            "style": "IPY_MODEL_e38d3e5fa3d84c31a09d0ee63a0c1dc0",
            "value": " 9.10M/9.10M [00:00&lt;00:00, 13.9MB/s]"
          }
        },
        "efff6f1e2a9c44138c877d1e5dc21e04": {
          "model_module": "@jupyter-widgets/base",
          "model_name": "LayoutModel",
          "model_module_version": "1.2.0",
          "state": {
            "_model_module": "@jupyter-widgets/base",
            "_model_module_version": "1.2.0",
            "_model_name": "LayoutModel",
            "_view_count": null,
            "_view_module": "@jupyter-widgets/base",
            "_view_module_version": "1.2.0",
            "_view_name": "LayoutView",
            "align_content": null,
            "align_items": null,
            "align_self": null,
            "border": null,
            "bottom": null,
            "display": null,
            "flex": null,
            "flex_flow": null,
            "grid_area": null,
            "grid_auto_columns": null,
            "grid_auto_flow": null,
            "grid_auto_rows": null,
            "grid_column": null,
            "grid_gap": null,
            "grid_row": null,
            "grid_template_areas": null,
            "grid_template_columns": null,
            "grid_template_rows": null,
            "height": null,
            "justify_content": null,
            "justify_items": null,
            "left": null,
            "margin": null,
            "max_height": null,
            "max_width": null,
            "min_height": null,
            "min_width": null,
            "object_fit": null,
            "object_position": null,
            "order": null,
            "overflow": null,
            "overflow_x": null,
            "overflow_y": null,
            "padding": null,
            "right": null,
            "top": null,
            "visibility": null,
            "width": null
          }
        },
        "1d550ac43a70441db2b8ff343ea29ea2": {
          "model_module": "@jupyter-widgets/base",
          "model_name": "LayoutModel",
          "model_module_version": "1.2.0",
          "state": {
            "_model_module": "@jupyter-widgets/base",
            "_model_module_version": "1.2.0",
            "_model_name": "LayoutModel",
            "_view_count": null,
            "_view_module": "@jupyter-widgets/base",
            "_view_module_version": "1.2.0",
            "_view_name": "LayoutView",
            "align_content": null,
            "align_items": null,
            "align_self": null,
            "border": null,
            "bottom": null,
            "display": null,
            "flex": null,
            "flex_flow": null,
            "grid_area": null,
            "grid_auto_columns": null,
            "grid_auto_flow": null,
            "grid_auto_rows": null,
            "grid_column": null,
            "grid_gap": null,
            "grid_row": null,
            "grid_template_areas": null,
            "grid_template_columns": null,
            "grid_template_rows": null,
            "height": null,
            "justify_content": null,
            "justify_items": null,
            "left": null,
            "margin": null,
            "max_height": null,
            "max_width": null,
            "min_height": null,
            "min_width": null,
            "object_fit": null,
            "object_position": null,
            "order": null,
            "overflow": null,
            "overflow_x": null,
            "overflow_y": null,
            "padding": null,
            "right": null,
            "top": null,
            "visibility": null,
            "width": null
          }
        },
        "092794b9859448c9a1be6180a86cf76d": {
          "model_module": "@jupyter-widgets/controls",
          "model_name": "DescriptionStyleModel",
          "model_module_version": "1.5.0",
          "state": {
            "_model_module": "@jupyter-widgets/controls",
            "_model_module_version": "1.5.0",
            "_model_name": "DescriptionStyleModel",
            "_view_count": null,
            "_view_module": "@jupyter-widgets/base",
            "_view_module_version": "1.2.0",
            "_view_name": "StyleView",
            "description_width": ""
          }
        },
        "0d82b90d62d54dd581f86ffa56fd92f5": {
          "model_module": "@jupyter-widgets/base",
          "model_name": "LayoutModel",
          "model_module_version": "1.2.0",
          "state": {
            "_model_module": "@jupyter-widgets/base",
            "_model_module_version": "1.2.0",
            "_model_name": "LayoutModel",
            "_view_count": null,
            "_view_module": "@jupyter-widgets/base",
            "_view_module_version": "1.2.0",
            "_view_name": "LayoutView",
            "align_content": null,
            "align_items": null,
            "align_self": null,
            "border": null,
            "bottom": null,
            "display": null,
            "flex": null,
            "flex_flow": null,
            "grid_area": null,
            "grid_auto_columns": null,
            "grid_auto_flow": null,
            "grid_auto_rows": null,
            "grid_column": null,
            "grid_gap": null,
            "grid_row": null,
            "grid_template_areas": null,
            "grid_template_columns": null,
            "grid_template_rows": null,
            "height": null,
            "justify_content": null,
            "justify_items": null,
            "left": null,
            "margin": null,
            "max_height": null,
            "max_width": null,
            "min_height": null,
            "min_width": null,
            "object_fit": null,
            "object_position": null,
            "order": null,
            "overflow": null,
            "overflow_x": null,
            "overflow_y": null,
            "padding": null,
            "right": null,
            "top": null,
            "visibility": null,
            "width": null
          }
        },
        "2e7b97b27f5f4946b51d3ec019eddf20": {
          "model_module": "@jupyter-widgets/controls",
          "model_name": "ProgressStyleModel",
          "model_module_version": "1.5.0",
          "state": {
            "_model_module": "@jupyter-widgets/controls",
            "_model_module_version": "1.5.0",
            "_model_name": "ProgressStyleModel",
            "_view_count": null,
            "_view_module": "@jupyter-widgets/base",
            "_view_module_version": "1.2.0",
            "_view_name": "StyleView",
            "bar_color": null,
            "description_width": ""
          }
        },
        "c1b87838782d4d27b9de5a8e8b06427e": {
          "model_module": "@jupyter-widgets/base",
          "model_name": "LayoutModel",
          "model_module_version": "1.2.0",
          "state": {
            "_model_module": "@jupyter-widgets/base",
            "_model_module_version": "1.2.0",
            "_model_name": "LayoutModel",
            "_view_count": null,
            "_view_module": "@jupyter-widgets/base",
            "_view_module_version": "1.2.0",
            "_view_name": "LayoutView",
            "align_content": null,
            "align_items": null,
            "align_self": null,
            "border": null,
            "bottom": null,
            "display": null,
            "flex": null,
            "flex_flow": null,
            "grid_area": null,
            "grid_auto_columns": null,
            "grid_auto_flow": null,
            "grid_auto_rows": null,
            "grid_column": null,
            "grid_gap": null,
            "grid_row": null,
            "grid_template_areas": null,
            "grid_template_columns": null,
            "grid_template_rows": null,
            "height": null,
            "justify_content": null,
            "justify_items": null,
            "left": null,
            "margin": null,
            "max_height": null,
            "max_width": null,
            "min_height": null,
            "min_width": null,
            "object_fit": null,
            "object_position": null,
            "order": null,
            "overflow": null,
            "overflow_x": null,
            "overflow_y": null,
            "padding": null,
            "right": null,
            "top": null,
            "visibility": null,
            "width": null
          }
        },
        "e38d3e5fa3d84c31a09d0ee63a0c1dc0": {
          "model_module": "@jupyter-widgets/controls",
          "model_name": "DescriptionStyleModel",
          "model_module_version": "1.5.0",
          "state": {
            "_model_module": "@jupyter-widgets/controls",
            "_model_module_version": "1.5.0",
            "_model_name": "DescriptionStyleModel",
            "_view_count": null,
            "_view_module": "@jupyter-widgets/base",
            "_view_module_version": "1.2.0",
            "_view_name": "StyleView",
            "description_width": ""
          }
        },
        "c03bd502afc144baadc811b6a4bd7f2c": {
          "model_module": "@jupyter-widgets/controls",
          "model_name": "HBoxModel",
          "model_module_version": "1.5.0",
          "state": {
            "_dom_classes": [],
            "_model_module": "@jupyter-widgets/controls",
            "_model_module_version": "1.5.0",
            "_model_name": "HBoxModel",
            "_view_count": null,
            "_view_module": "@jupyter-widgets/controls",
            "_view_module_version": "1.5.0",
            "_view_name": "HBoxView",
            "box_style": "",
            "children": [
              "IPY_MODEL_417799e5d69d41e2a818a79b115c0ee2",
              "IPY_MODEL_24bfd912c6fc418195c14a35257b3503",
              "IPY_MODEL_e11b77995d684db9b2f4fb20ed6c4db9"
            ],
            "layout": "IPY_MODEL_a0ff75f347cd41c4aae70603981bc0d0"
          }
        },
        "417799e5d69d41e2a818a79b115c0ee2": {
          "model_module": "@jupyter-widgets/controls",
          "model_name": "HTMLModel",
          "model_module_version": "1.5.0",
          "state": {
            "_dom_classes": [],
            "_model_module": "@jupyter-widgets/controls",
            "_model_module_version": "1.5.0",
            "_model_name": "HTMLModel",
            "_view_count": null,
            "_view_module": "@jupyter-widgets/controls",
            "_view_module_version": "1.5.0",
            "_view_name": "HTMLView",
            "description": "",
            "description_tooltip": null,
            "layout": "IPY_MODEL_1eaeb7169caf4f778d4acd3754c66429",
            "placeholder": "​",
            "style": "IPY_MODEL_ba7de3f8fbd2403288ec7ea530053b28",
            "value": "Downloading model.safetensors: 100%"
          }
        },
        "24bfd912c6fc418195c14a35257b3503": {
          "model_module": "@jupyter-widgets/controls",
          "model_name": "FloatProgressModel",
          "model_module_version": "1.5.0",
          "state": {
            "_dom_classes": [],
            "_model_module": "@jupyter-widgets/controls",
            "_model_module_version": "1.5.0",
            "_model_name": "FloatProgressModel",
            "_view_count": null,
            "_view_module": "@jupyter-widgets/controls",
            "_view_module_version": "1.5.0",
            "_view_name": "ProgressView",
            "bar_style": "success",
            "description": "",
            "description_tooltip": null,
            "layout": "IPY_MODEL_245c36e41f244c689ca90a7a8d427b6e",
            "max": 1115567652,
            "min": 0,
            "orientation": "horizontal",
            "style": "IPY_MODEL_358d89de1a9b4c4baae5241ca2f60437",
            "value": 1115567652
          }
        },
        "e11b77995d684db9b2f4fb20ed6c4db9": {
          "model_module": "@jupyter-widgets/controls",
          "model_name": "HTMLModel",
          "model_module_version": "1.5.0",
          "state": {
            "_dom_classes": [],
            "_model_module": "@jupyter-widgets/controls",
            "_model_module_version": "1.5.0",
            "_model_name": "HTMLModel",
            "_view_count": null,
            "_view_module": "@jupyter-widgets/controls",
            "_view_module_version": "1.5.0",
            "_view_name": "HTMLView",
            "description": "",
            "description_tooltip": null,
            "layout": "IPY_MODEL_4d4b4d0e461e47529e7932b90f1652e2",
            "placeholder": "​",
            "style": "IPY_MODEL_63edfd8161234158b0856c144eb4f313",
            "value": " 1.12G/1.12G [00:08&lt;00:00, 71.4MB/s]"
          }
        },
        "a0ff75f347cd41c4aae70603981bc0d0": {
          "model_module": "@jupyter-widgets/base",
          "model_name": "LayoutModel",
          "model_module_version": "1.2.0",
          "state": {
            "_model_module": "@jupyter-widgets/base",
            "_model_module_version": "1.2.0",
            "_model_name": "LayoutModel",
            "_view_count": null,
            "_view_module": "@jupyter-widgets/base",
            "_view_module_version": "1.2.0",
            "_view_name": "LayoutView",
            "align_content": null,
            "align_items": null,
            "align_self": null,
            "border": null,
            "bottom": null,
            "display": null,
            "flex": null,
            "flex_flow": null,
            "grid_area": null,
            "grid_auto_columns": null,
            "grid_auto_flow": null,
            "grid_auto_rows": null,
            "grid_column": null,
            "grid_gap": null,
            "grid_row": null,
            "grid_template_areas": null,
            "grid_template_columns": null,
            "grid_template_rows": null,
            "height": null,
            "justify_content": null,
            "justify_items": null,
            "left": null,
            "margin": null,
            "max_height": null,
            "max_width": null,
            "min_height": null,
            "min_width": null,
            "object_fit": null,
            "object_position": null,
            "order": null,
            "overflow": null,
            "overflow_x": null,
            "overflow_y": null,
            "padding": null,
            "right": null,
            "top": null,
            "visibility": null,
            "width": null
          }
        },
        "1eaeb7169caf4f778d4acd3754c66429": {
          "model_module": "@jupyter-widgets/base",
          "model_name": "LayoutModel",
          "model_module_version": "1.2.0",
          "state": {
            "_model_module": "@jupyter-widgets/base",
            "_model_module_version": "1.2.0",
            "_model_name": "LayoutModel",
            "_view_count": null,
            "_view_module": "@jupyter-widgets/base",
            "_view_module_version": "1.2.0",
            "_view_name": "LayoutView",
            "align_content": null,
            "align_items": null,
            "align_self": null,
            "border": null,
            "bottom": null,
            "display": null,
            "flex": null,
            "flex_flow": null,
            "grid_area": null,
            "grid_auto_columns": null,
            "grid_auto_flow": null,
            "grid_auto_rows": null,
            "grid_column": null,
            "grid_gap": null,
            "grid_row": null,
            "grid_template_areas": null,
            "grid_template_columns": null,
            "grid_template_rows": null,
            "height": null,
            "justify_content": null,
            "justify_items": null,
            "left": null,
            "margin": null,
            "max_height": null,
            "max_width": null,
            "min_height": null,
            "min_width": null,
            "object_fit": null,
            "object_position": null,
            "order": null,
            "overflow": null,
            "overflow_x": null,
            "overflow_y": null,
            "padding": null,
            "right": null,
            "top": null,
            "visibility": null,
            "width": null
          }
        },
        "ba7de3f8fbd2403288ec7ea530053b28": {
          "model_module": "@jupyter-widgets/controls",
          "model_name": "DescriptionStyleModel",
          "model_module_version": "1.5.0",
          "state": {
            "_model_module": "@jupyter-widgets/controls",
            "_model_module_version": "1.5.0",
            "_model_name": "DescriptionStyleModel",
            "_view_count": null,
            "_view_module": "@jupyter-widgets/base",
            "_view_module_version": "1.2.0",
            "_view_name": "StyleView",
            "description_width": ""
          }
        },
        "245c36e41f244c689ca90a7a8d427b6e": {
          "model_module": "@jupyter-widgets/base",
          "model_name": "LayoutModel",
          "model_module_version": "1.2.0",
          "state": {
            "_model_module": "@jupyter-widgets/base",
            "_model_module_version": "1.2.0",
            "_model_name": "LayoutModel",
            "_view_count": null,
            "_view_module": "@jupyter-widgets/base",
            "_view_module_version": "1.2.0",
            "_view_name": "LayoutView",
            "align_content": null,
            "align_items": null,
            "align_self": null,
            "border": null,
            "bottom": null,
            "display": null,
            "flex": null,
            "flex_flow": null,
            "grid_area": null,
            "grid_auto_columns": null,
            "grid_auto_flow": null,
            "grid_auto_rows": null,
            "grid_column": null,
            "grid_gap": null,
            "grid_row": null,
            "grid_template_areas": null,
            "grid_template_columns": null,
            "grid_template_rows": null,
            "height": null,
            "justify_content": null,
            "justify_items": null,
            "left": null,
            "margin": null,
            "max_height": null,
            "max_width": null,
            "min_height": null,
            "min_width": null,
            "object_fit": null,
            "object_position": null,
            "order": null,
            "overflow": null,
            "overflow_x": null,
            "overflow_y": null,
            "padding": null,
            "right": null,
            "top": null,
            "visibility": null,
            "width": null
          }
        },
        "358d89de1a9b4c4baae5241ca2f60437": {
          "model_module": "@jupyter-widgets/controls",
          "model_name": "ProgressStyleModel",
          "model_module_version": "1.5.0",
          "state": {
            "_model_module": "@jupyter-widgets/controls",
            "_model_module_version": "1.5.0",
            "_model_name": "ProgressStyleModel",
            "_view_count": null,
            "_view_module": "@jupyter-widgets/base",
            "_view_module_version": "1.2.0",
            "_view_name": "StyleView",
            "bar_color": null,
            "description_width": ""
          }
        },
        "4d4b4d0e461e47529e7932b90f1652e2": {
          "model_module": "@jupyter-widgets/base",
          "model_name": "LayoutModel",
          "model_module_version": "1.2.0",
          "state": {
            "_model_module": "@jupyter-widgets/base",
            "_model_module_version": "1.2.0",
            "_model_name": "LayoutModel",
            "_view_count": null,
            "_view_module": "@jupyter-widgets/base",
            "_view_module_version": "1.2.0",
            "_view_name": "LayoutView",
            "align_content": null,
            "align_items": null,
            "align_self": null,
            "border": null,
            "bottom": null,
            "display": null,
            "flex": null,
            "flex_flow": null,
            "grid_area": null,
            "grid_auto_columns": null,
            "grid_auto_flow": null,
            "grid_auto_rows": null,
            "grid_column": null,
            "grid_gap": null,
            "grid_row": null,
            "grid_template_areas": null,
            "grid_template_columns": null,
            "grid_template_rows": null,
            "height": null,
            "justify_content": null,
            "justify_items": null,
            "left": null,
            "margin": null,
            "max_height": null,
            "max_width": null,
            "min_height": null,
            "min_width": null,
            "object_fit": null,
            "object_position": null,
            "order": null,
            "overflow": null,
            "overflow_x": null,
            "overflow_y": null,
            "padding": null,
            "right": null,
            "top": null,
            "visibility": null,
            "width": null
          }
        },
        "63edfd8161234158b0856c144eb4f313": {
          "model_module": "@jupyter-widgets/controls",
          "model_name": "DescriptionStyleModel",
          "model_module_version": "1.5.0",
          "state": {
            "_model_module": "@jupyter-widgets/controls",
            "_model_module_version": "1.5.0",
            "_model_name": "DescriptionStyleModel",
            "_view_count": null,
            "_view_module": "@jupyter-widgets/base",
            "_view_module_version": "1.2.0",
            "_view_name": "StyleView",
            "description_width": ""
          }
        }
      }
    }
  },
  "nbformat": 4,
  "nbformat_minor": 5
}